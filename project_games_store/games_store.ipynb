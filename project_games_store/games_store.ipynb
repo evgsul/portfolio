{
 "cells": [
  {
   "cell_type": "markdown",
   "metadata": {},
   "source": [
    "###  Сборный проект \"Выявление закономерностей, определяющих успешность игр\"\n",
    "### Оглавление:\n",
    "* [Цель проекта](#intent)\n",
    "* 1 [Изучение, описание и обработка данных в таблице](#opening_processing_data)\n",
    "    * 1.1 [Описание датасета](#description)\n",
    "    * 1.2 [Изменение регистра названий колонок и типа данных колонки с оценками пользователей](#columns_datatype)\n",
    "    * 1.3 [Пропуски в колонке с названием игр](#name_nan)\n",
    "    * 1.4 [Пропуски в колонке с годом выпуска игры](#year_nan)\n",
    "    * 1.5 [Пропуски в колонках с оценками пользователей и критиков](#scores_nan)\n",
    "    * 1.6 [Пропуски в колонке с рейтингом игр](#rating_nan)\n",
    "    * 1.7 [Расчет суммарных продаж по всем регионам](#count_all_sales)\n",
    "* 2 [Исследовательский анализ данных](#data_analysis)\n",
    "    * 2.1 [Количество выпускаемых игр в разные годы](#games_by_years)\n",
    "    * 2.2 [Продажи игр в зависимости от платформы](#sales_by_platforms)\n",
    "    * 2.3 [Потенциально прибыльные платформы за актуальный период](#platforms_by_current_period)\n",
    "    * 2.4 [Диграммы размаха по глобальным продажам для PS4 и Xbox One](#boxplot_ps4_xone)\n",
    "    * 2.5 [Влияние на продажи игр для PS4 отзывов пользователей и критиков](#cor_scores_sales_ps4)\n",
    "    * 2.6 [Распределение продаж игр по жанрам](#sales_by_genres)\n",
    "* 3 [Портрет пользователя каждого региона](#user_type_by_regions)\n",
    "    * 3.1 [Топ-5 популярных платформ для каждого региона](#top5_platforms_by_regions)\n",
    "    * 3.2 [Топ-5 популярных жанров игр для каждого региона](#top5_genres_by_regions)\n",
    "    * 3.3 [Влияние рейтинга ESRB на продажи игр в отдельном регионе](#sales_by_rating)\n",
    "* 4 [Проверка гипотез](#hypotheses)\n",
    "    * 4.1 [Средние пользовательские рейтинги платформ Xbox One и PC одинаковые](#mean_scores_xone_pc)\n",
    "    * 4.2 [Средние пользовательские рейтинги жанров \"Action\" и \"Sports\" разные](#mean_scores_action_sports)\n",
    "* 5 [Общий вывод](#conclusion)"
   ]
  },
  {
   "cell_type": "markdown",
   "metadata": {},
   "source": [
    "### Цель проекта:<a name=\"intent\"></a>\n",
    "На основе имеющихся исторических данных о продажах игр, оценках пользователей и экспертов, жанрах и платформах необходимо выявить закономерности, которые позволят спрогнозировать какие игры будут востребованы в ближайшем будущем. Для этого нужно:\n",
    "> - Обработать исторические данные о продажах игр;\n",
    "> - Расчитать суммарные продажи игр во всех регионах;\n",
    "> - Определить актуальный период времени, на основе анализа которого будет делаться прогноз;\n",
    "> - Определить потенциально прибыльные платформы;\n",
    "> - Проанализировать влияние на продажи игр отзывов пользователей и критиков;\n",
    "> - Рассмотреть распределение игр по жанрам;\n",
    "> - Определить топ-5 платформ по продажам игр для каждого региона;\n",
    "> - Определить топ-5 жанров по продажам игр для каждого региона;\n",
    "> - Определить по каждому рейтингу долю в продажах игр для каждого региона;\n",
    "> - Проверить гипотезу о том, что средние пользовательские рейтинги платформ Xbox One и PC одинаковые;\n",
    "> - Проверить гипотезу о том, что средние пользовательские рейтинги жанров \"Action\" и \"Sports\" разные."
   ]
  },
  {
   "cell_type": "markdown",
   "metadata": {},
   "source": [
    "### 1 Изучение, описание и обработка данных в таблице<a name=\"opening_processing_data\"></a>\n",
    "#### 1.1 Описание датасета<a name=\"description\"></a>\n",
    "Импортируем нужные библиотеки и откроем файл с данными о продажах игр."
   ]
  },
  {
   "cell_type": "code",
   "execution_count": 176,
   "metadata": {},
   "outputs": [
    {
     "name": "stdout",
     "output_type": "stream",
     "text": [
      "<class 'pandas.core.frame.DataFrame'>\n",
      "RangeIndex: 16715 entries, 0 to 16714\n",
      "Data columns (total 11 columns):\n",
      "Name               16713 non-null object\n",
      "Platform           16715 non-null object\n",
      "Year_of_Release    16446 non-null float64\n",
      "Genre              16713 non-null object\n",
      "NA_sales           16715 non-null float64\n",
      "EU_sales           16715 non-null float64\n",
      "JP_sales           16715 non-null float64\n",
      "Other_sales        16715 non-null float64\n",
      "Critic_Score       8137 non-null float64\n",
      "User_Score         10014 non-null object\n",
      "Rating             9949 non-null object\n",
      "dtypes: float64(6), object(5)\n",
      "memory usage: 1.4+ MB\n"
     ]
    },
    {
     "data": {
      "text/html": [
       "<div>\n",
       "<style scoped>\n",
       "    .dataframe tbody tr th:only-of-type {\n",
       "        vertical-align: middle;\n",
       "    }\n",
       "\n",
       "    .dataframe tbody tr th {\n",
       "        vertical-align: top;\n",
       "    }\n",
       "\n",
       "    .dataframe thead th {\n",
       "        text-align: right;\n",
       "    }\n",
       "</style>\n",
       "<table border=\"1\" class=\"dataframe\">\n",
       "  <thead>\n",
       "    <tr style=\"text-align: right;\">\n",
       "      <th></th>\n",
       "      <th>Name</th>\n",
       "      <th>Platform</th>\n",
       "      <th>Year_of_Release</th>\n",
       "      <th>Genre</th>\n",
       "      <th>NA_sales</th>\n",
       "      <th>EU_sales</th>\n",
       "      <th>JP_sales</th>\n",
       "      <th>Other_sales</th>\n",
       "      <th>Critic_Score</th>\n",
       "      <th>User_Score</th>\n",
       "      <th>Rating</th>\n",
       "    </tr>\n",
       "  </thead>\n",
       "  <tbody>\n",
       "    <tr>\n",
       "      <td>9277</td>\n",
       "      <td>Apex</td>\n",
       "      <td>XB</td>\n",
       "      <td>2003.0</td>\n",
       "      <td>Racing</td>\n",
       "      <td>0.10</td>\n",
       "      <td>0.03</td>\n",
       "      <td>0.00</td>\n",
       "      <td>0.00</td>\n",
       "      <td>74.0</td>\n",
       "      <td>9.1</td>\n",
       "      <td>E</td>\n",
       "    </tr>\n",
       "    <tr>\n",
       "      <td>14056</td>\n",
       "      <td>Richard Burns Rally</td>\n",
       "      <td>PC</td>\n",
       "      <td>2004.0</td>\n",
       "      <td>Racing</td>\n",
       "      <td>0.00</td>\n",
       "      <td>0.03</td>\n",
       "      <td>0.00</td>\n",
       "      <td>0.01</td>\n",
       "      <td>NaN</td>\n",
       "      <td>NaN</td>\n",
       "      <td>NaN</td>\n",
       "    </tr>\n",
       "    <tr>\n",
       "      <td>16504</td>\n",
       "      <td>Teenage Mutant Ninja Turtles (3DS)</td>\n",
       "      <td>3DS</td>\n",
       "      <td>2013.0</td>\n",
       "      <td>Action</td>\n",
       "      <td>0.01</td>\n",
       "      <td>0.00</td>\n",
       "      <td>0.00</td>\n",
       "      <td>0.00</td>\n",
       "      <td>NaN</td>\n",
       "      <td>NaN</td>\n",
       "      <td>NaN</td>\n",
       "    </tr>\n",
       "    <tr>\n",
       "      <td>10958</td>\n",
       "      <td>Tak: The Great Juju Challenge</td>\n",
       "      <td>DS</td>\n",
       "      <td>2005.0</td>\n",
       "      <td>Platform</td>\n",
       "      <td>0.09</td>\n",
       "      <td>0.00</td>\n",
       "      <td>0.00</td>\n",
       "      <td>0.01</td>\n",
       "      <td>66.0</td>\n",
       "      <td>tbd</td>\n",
       "      <td>E</td>\n",
       "    </tr>\n",
       "    <tr>\n",
       "      <td>14145</td>\n",
       "      <td>Zenkoku Dekotora Matsuri</td>\n",
       "      <td>Wii</td>\n",
       "      <td>2008.0</td>\n",
       "      <td>Racing</td>\n",
       "      <td>0.00</td>\n",
       "      <td>0.00</td>\n",
       "      <td>0.03</td>\n",
       "      <td>0.00</td>\n",
       "      <td>NaN</td>\n",
       "      <td>NaN</td>\n",
       "      <td>NaN</td>\n",
       "    </tr>\n",
       "    <tr>\n",
       "      <td>3047</td>\n",
       "      <td>Thrillville</td>\n",
       "      <td>PS2</td>\n",
       "      <td>2006.0</td>\n",
       "      <td>Strategy</td>\n",
       "      <td>0.55</td>\n",
       "      <td>0.02</td>\n",
       "      <td>0.00</td>\n",
       "      <td>0.09</td>\n",
       "      <td>69.0</td>\n",
       "      <td>2.9</td>\n",
       "      <td>E10+</td>\n",
       "    </tr>\n",
       "    <tr>\n",
       "      <td>5282</td>\n",
       "      <td>Bloody Roar 3</td>\n",
       "      <td>PS2</td>\n",
       "      <td>2001.0</td>\n",
       "      <td>Fighting</td>\n",
       "      <td>0.15</td>\n",
       "      <td>0.11</td>\n",
       "      <td>0.05</td>\n",
       "      <td>0.04</td>\n",
       "      <td>71.0</td>\n",
       "      <td>8.6</td>\n",
       "      <td>T</td>\n",
       "    </tr>\n",
       "    <tr>\n",
       "      <td>974</td>\n",
       "      <td>NBA 2K11</td>\n",
       "      <td>PS3</td>\n",
       "      <td>2010.0</td>\n",
       "      <td>Action</td>\n",
       "      <td>1.41</td>\n",
       "      <td>0.20</td>\n",
       "      <td>0.03</td>\n",
       "      <td>0.16</td>\n",
       "      <td>89.0</td>\n",
       "      <td>7.6</td>\n",
       "      <td>E</td>\n",
       "    </tr>\n",
       "    <tr>\n",
       "      <td>14635</td>\n",
       "      <td>Bladestorm: Nightmare</td>\n",
       "      <td>PS3</td>\n",
       "      <td>2015.0</td>\n",
       "      <td>Action</td>\n",
       "      <td>0.00</td>\n",
       "      <td>0.00</td>\n",
       "      <td>0.03</td>\n",
       "      <td>0.00</td>\n",
       "      <td>NaN</td>\n",
       "      <td>7.4</td>\n",
       "      <td>T</td>\n",
       "    </tr>\n",
       "    <tr>\n",
       "      <td>8305</td>\n",
       "      <td>Captain America: Super Soldier</td>\n",
       "      <td>X360</td>\n",
       "      <td>2011.0</td>\n",
       "      <td>Action</td>\n",
       "      <td>0.11</td>\n",
       "      <td>0.05</td>\n",
       "      <td>0.00</td>\n",
       "      <td>0.01</td>\n",
       "      <td>60.0</td>\n",
       "      <td>6.4</td>\n",
       "      <td>T</td>\n",
       "    </tr>\n",
       "    <tr>\n",
       "      <td>12065</td>\n",
       "      <td>futureU: The Prep Game for SAT</td>\n",
       "      <td>DS</td>\n",
       "      <td>2008.0</td>\n",
       "      <td>Misc</td>\n",
       "      <td>0.06</td>\n",
       "      <td>0.00</td>\n",
       "      <td>0.00</td>\n",
       "      <td>0.01</td>\n",
       "      <td>NaN</td>\n",
       "      <td>tbd</td>\n",
       "      <td>E</td>\n",
       "    </tr>\n",
       "    <tr>\n",
       "      <td>9495</td>\n",
       "      <td>Digimon Racing</td>\n",
       "      <td>GBA</td>\n",
       "      <td>2004.0</td>\n",
       "      <td>Racing</td>\n",
       "      <td>0.09</td>\n",
       "      <td>0.03</td>\n",
       "      <td>0.00</td>\n",
       "      <td>0.00</td>\n",
       "      <td>62.0</td>\n",
       "      <td>tbd</td>\n",
       "      <td>E</td>\n",
       "    </tr>\n",
       "    <tr>\n",
       "      <td>15246</td>\n",
       "      <td>Black Rose Valkyrie</td>\n",
       "      <td>PS4</td>\n",
       "      <td>2016.0</td>\n",
       "      <td>Role-Playing</td>\n",
       "      <td>0.00</td>\n",
       "      <td>0.00</td>\n",
       "      <td>0.02</td>\n",
       "      <td>0.00</td>\n",
       "      <td>NaN</td>\n",
       "      <td>NaN</td>\n",
       "      <td>NaN</td>\n",
       "    </tr>\n",
       "    <tr>\n",
       "      <td>16686</td>\n",
       "      <td>Yattaman Wii: BikkuriDokkiri Machine de Mou Ra...</td>\n",
       "      <td>Wii</td>\n",
       "      <td>2008.0</td>\n",
       "      <td>Racing</td>\n",
       "      <td>0.00</td>\n",
       "      <td>0.00</td>\n",
       "      <td>0.01</td>\n",
       "      <td>0.00</td>\n",
       "      <td>NaN</td>\n",
       "      <td>NaN</td>\n",
       "      <td>NaN</td>\n",
       "    </tr>\n",
       "    <tr>\n",
       "      <td>10036</td>\n",
       "      <td>Army Men: Sarge's War</td>\n",
       "      <td>XB</td>\n",
       "      <td>2004.0</td>\n",
       "      <td>Shooter</td>\n",
       "      <td>0.09</td>\n",
       "      <td>0.02</td>\n",
       "      <td>0.00</td>\n",
       "      <td>0.00</td>\n",
       "      <td>44.0</td>\n",
       "      <td>tbd</td>\n",
       "      <td>T</td>\n",
       "    </tr>\n",
       "  </tbody>\n",
       "</table>\n",
       "</div>"
      ],
      "text/plain": [
       "                                                    Name Platform  \\\n",
       "9277                                                Apex       XB   \n",
       "14056                                Richard Burns Rally       PC   \n",
       "16504                 Teenage Mutant Ninja Turtles (3DS)      3DS   \n",
       "10958                      Tak: The Great Juju Challenge       DS   \n",
       "14145                           Zenkoku Dekotora Matsuri      Wii   \n",
       "3047                                         Thrillville      PS2   \n",
       "5282                                       Bloody Roar 3      PS2   \n",
       "974                                             NBA 2K11      PS3   \n",
       "14635                              Bladestorm: Nightmare      PS3   \n",
       "8305                      Captain America: Super Soldier     X360   \n",
       "12065                     futureU: The Prep Game for SAT       DS   \n",
       "9495                                      Digimon Racing      GBA   \n",
       "15246                                Black Rose Valkyrie      PS4   \n",
       "16686  Yattaman Wii: BikkuriDokkiri Machine de Mou Ra...      Wii   \n",
       "10036                              Army Men: Sarge's War       XB   \n",
       "\n",
       "       Year_of_Release         Genre  NA_sales  EU_sales  JP_sales  \\\n",
       "9277            2003.0        Racing      0.10      0.03      0.00   \n",
       "14056           2004.0        Racing      0.00      0.03      0.00   \n",
       "16504           2013.0        Action      0.01      0.00      0.00   \n",
       "10958           2005.0      Platform      0.09      0.00      0.00   \n",
       "14145           2008.0        Racing      0.00      0.00      0.03   \n",
       "3047            2006.0      Strategy      0.55      0.02      0.00   \n",
       "5282            2001.0      Fighting      0.15      0.11      0.05   \n",
       "974             2010.0        Action      1.41      0.20      0.03   \n",
       "14635           2015.0        Action      0.00      0.00      0.03   \n",
       "8305            2011.0        Action      0.11      0.05      0.00   \n",
       "12065           2008.0          Misc      0.06      0.00      0.00   \n",
       "9495            2004.0        Racing      0.09      0.03      0.00   \n",
       "15246           2016.0  Role-Playing      0.00      0.00      0.02   \n",
       "16686           2008.0        Racing      0.00      0.00      0.01   \n",
       "10036           2004.0       Shooter      0.09      0.02      0.00   \n",
       "\n",
       "       Other_sales  Critic_Score User_Score Rating  \n",
       "9277          0.00          74.0        9.1      E  \n",
       "14056         0.01           NaN        NaN    NaN  \n",
       "16504         0.00           NaN        NaN    NaN  \n",
       "10958         0.01          66.0        tbd      E  \n",
       "14145         0.00           NaN        NaN    NaN  \n",
       "3047          0.09          69.0        2.9   E10+  \n",
       "5282          0.04          71.0        8.6      T  \n",
       "974           0.16          89.0        7.6      E  \n",
       "14635         0.00           NaN        7.4      T  \n",
       "8305          0.01          60.0        6.4      T  \n",
       "12065         0.01           NaN        tbd      E  \n",
       "9495          0.00          62.0        tbd      E  \n",
       "15246         0.00           NaN        NaN    NaN  \n",
       "16686         0.00           NaN        NaN    NaN  \n",
       "10036         0.00          44.0        tbd      T  "
      ]
     },
     "execution_count": 176,
     "metadata": {},
     "output_type": "execute_result"
    }
   ],
   "source": [
    "import pandas as pd\n",
    "import numpy as np\n",
    "import matplotlib.pyplot as plt\n",
    "from scipy import stats as st\n",
    "games = pd.read_csv('d:/files/praktikum_csv_files/games.csv')\n",
    "games.info()\n",
    "games.sample(15)"
   ]
  },
  {
   "cell_type": "markdown",
   "metadata": {},
   "source": [
    "Пропуски данных в 6-ти колонках:\n",
    "> - Название игры;\n",
    "> - Год выпуска;\n",
    "> - Жанр;\n",
    "> - Оценка критиков;\n",
    "> - Оценка пользователей;\n",
    "> - Рейтинг.\n",
    "\n",
    "Также в колонке с оценками пользователей некорректный тип данных \"object\", который необоходимо изменить на \"float\"."
   ]
  },
  {
   "cell_type": "markdown",
   "metadata": {},
   "source": [
    "#### 1.2 Изменение регистра названий колонок и типа данных колонки с оценками пользователей<a name=\"columns_datatype\"></a>\n",
    "\n",
    "Сначала приведем названия колонок к нижнему регистру для удобства их написания в коде в дальнейшем. Для этого заменим названия колонок."
   ]
  },
  {
   "cell_type": "code",
   "execution_count": 177,
   "metadata": {},
   "outputs": [
    {
     "data": {
      "text/html": [
       "<div>\n",
       "<style scoped>\n",
       "    .dataframe tbody tr th:only-of-type {\n",
       "        vertical-align: middle;\n",
       "    }\n",
       "\n",
       "    .dataframe tbody tr th {\n",
       "        vertical-align: top;\n",
       "    }\n",
       "\n",
       "    .dataframe thead th {\n",
       "        text-align: right;\n",
       "    }\n",
       "</style>\n",
       "<table border=\"1\" class=\"dataframe\">\n",
       "  <thead>\n",
       "    <tr style=\"text-align: right;\">\n",
       "      <th></th>\n",
       "      <th>name</th>\n",
       "      <th>platform</th>\n",
       "      <th>year_of_release</th>\n",
       "      <th>genre</th>\n",
       "      <th>na_sales</th>\n",
       "      <th>eu_sales</th>\n",
       "      <th>jp_sales</th>\n",
       "      <th>other_sales</th>\n",
       "      <th>critic_score</th>\n",
       "      <th>user_score</th>\n",
       "      <th>rating</th>\n",
       "    </tr>\n",
       "  </thead>\n",
       "  <tbody>\n",
       "    <tr>\n",
       "      <td>0</td>\n",
       "      <td>Wii Sports</td>\n",
       "      <td>Wii</td>\n",
       "      <td>2006.0</td>\n",
       "      <td>Sports</td>\n",
       "      <td>41.36</td>\n",
       "      <td>28.96</td>\n",
       "      <td>3.77</td>\n",
       "      <td>8.45</td>\n",
       "      <td>76.0</td>\n",
       "      <td>8</td>\n",
       "      <td>E</td>\n",
       "    </tr>\n",
       "    <tr>\n",
       "      <td>1</td>\n",
       "      <td>Super Mario Bros.</td>\n",
       "      <td>NES</td>\n",
       "      <td>1985.0</td>\n",
       "      <td>Platform</td>\n",
       "      <td>29.08</td>\n",
       "      <td>3.58</td>\n",
       "      <td>6.81</td>\n",
       "      <td>0.77</td>\n",
       "      <td>NaN</td>\n",
       "      <td>NaN</td>\n",
       "      <td>NaN</td>\n",
       "    </tr>\n",
       "    <tr>\n",
       "      <td>2</td>\n",
       "      <td>Mario Kart Wii</td>\n",
       "      <td>Wii</td>\n",
       "      <td>2008.0</td>\n",
       "      <td>Racing</td>\n",
       "      <td>15.68</td>\n",
       "      <td>12.76</td>\n",
       "      <td>3.79</td>\n",
       "      <td>3.29</td>\n",
       "      <td>82.0</td>\n",
       "      <td>8.3</td>\n",
       "      <td>E</td>\n",
       "    </tr>\n",
       "    <tr>\n",
       "      <td>3</td>\n",
       "      <td>Wii Sports Resort</td>\n",
       "      <td>Wii</td>\n",
       "      <td>2009.0</td>\n",
       "      <td>Sports</td>\n",
       "      <td>15.61</td>\n",
       "      <td>10.93</td>\n",
       "      <td>3.28</td>\n",
       "      <td>2.95</td>\n",
       "      <td>80.0</td>\n",
       "      <td>8</td>\n",
       "      <td>E</td>\n",
       "    </tr>\n",
       "    <tr>\n",
       "      <td>4</td>\n",
       "      <td>Pokemon Red/Pokemon Blue</td>\n",
       "      <td>GB</td>\n",
       "      <td>1996.0</td>\n",
       "      <td>Role-Playing</td>\n",
       "      <td>11.27</td>\n",
       "      <td>8.89</td>\n",
       "      <td>10.22</td>\n",
       "      <td>1.00</td>\n",
       "      <td>NaN</td>\n",
       "      <td>NaN</td>\n",
       "      <td>NaN</td>\n",
       "    </tr>\n",
       "  </tbody>\n",
       "</table>\n",
       "</div>"
      ],
      "text/plain": [
       "                       name platform  year_of_release         genre  na_sales  \\\n",
       "0                Wii Sports      Wii           2006.0        Sports     41.36   \n",
       "1         Super Mario Bros.      NES           1985.0      Platform     29.08   \n",
       "2            Mario Kart Wii      Wii           2008.0        Racing     15.68   \n",
       "3         Wii Sports Resort      Wii           2009.0        Sports     15.61   \n",
       "4  Pokemon Red/Pokemon Blue       GB           1996.0  Role-Playing     11.27   \n",
       "\n",
       "   eu_sales  jp_sales  other_sales  critic_score user_score rating  \n",
       "0     28.96      3.77         8.45          76.0          8      E  \n",
       "1      3.58      6.81         0.77           NaN        NaN    NaN  \n",
       "2     12.76      3.79         3.29          82.0        8.3      E  \n",
       "3     10.93      3.28         2.95          80.0          8      E  \n",
       "4      8.89     10.22         1.00           NaN        NaN    NaN  "
      ]
     },
     "execution_count": 177,
     "metadata": {},
     "output_type": "execute_result"
    }
   ],
   "source": [
    "games.columns = games.columns.str.lower()\n",
    "games.head()"
   ]
  },
  {
   "cell_type": "markdown",
   "metadata": {},
   "source": [
    "Тип данных колонки с оценками пользователей изменим на \"float\" методом \"to_numeric\"."
   ]
  },
  {
   "cell_type": "code",
   "execution_count": 178,
   "metadata": {},
   "outputs": [
    {
     "name": "stdout",
     "output_type": "stream",
     "text": [
      "<class 'pandas.core.frame.DataFrame'>\n",
      "RangeIndex: 16715 entries, 0 to 16714\n",
      "Data columns (total 11 columns):\n",
      "name               16713 non-null object\n",
      "platform           16715 non-null object\n",
      "year_of_release    16446 non-null float64\n",
      "genre              16713 non-null object\n",
      "na_sales           16715 non-null float64\n",
      "eu_sales           16715 non-null float64\n",
      "jp_sales           16715 non-null float64\n",
      "other_sales        16715 non-null float64\n",
      "critic_score       8137 non-null float64\n",
      "user_score         7590 non-null float64\n",
      "rating             9949 non-null object\n",
      "dtypes: float64(7), object(4)\n",
      "memory usage: 1.4+ MB\n"
     ]
    }
   ],
   "source": [
    "games['user_score'] = pd.to_numeric(games['user_score'], errors='coerce')\n",
    "games.info()"
   ]
  },
  {
   "cell_type": "markdown",
   "metadata": {},
   "source": [
    "#### 1.3 Пропуски в колонке с названием игр<a name=\"name_nan\"></a>\n",
    "Выведем игры, у которых не указаны названия."
   ]
  },
  {
   "cell_type": "code",
   "execution_count": 179,
   "metadata": {},
   "outputs": [
    {
     "data": {
      "text/html": [
       "<div>\n",
       "<style scoped>\n",
       "    .dataframe tbody tr th:only-of-type {\n",
       "        vertical-align: middle;\n",
       "    }\n",
       "\n",
       "    .dataframe tbody tr th {\n",
       "        vertical-align: top;\n",
       "    }\n",
       "\n",
       "    .dataframe thead th {\n",
       "        text-align: right;\n",
       "    }\n",
       "</style>\n",
       "<table border=\"1\" class=\"dataframe\">\n",
       "  <thead>\n",
       "    <tr style=\"text-align: right;\">\n",
       "      <th></th>\n",
       "      <th>name</th>\n",
       "      <th>platform</th>\n",
       "      <th>year_of_release</th>\n",
       "      <th>genre</th>\n",
       "      <th>na_sales</th>\n",
       "      <th>eu_sales</th>\n",
       "      <th>jp_sales</th>\n",
       "      <th>other_sales</th>\n",
       "      <th>critic_score</th>\n",
       "      <th>user_score</th>\n",
       "      <th>rating</th>\n",
       "    </tr>\n",
       "  </thead>\n",
       "  <tbody>\n",
       "    <tr>\n",
       "      <td>659</td>\n",
       "      <td>NaN</td>\n",
       "      <td>GEN</td>\n",
       "      <td>1993.0</td>\n",
       "      <td>NaN</td>\n",
       "      <td>1.78</td>\n",
       "      <td>0.53</td>\n",
       "      <td>0.00</td>\n",
       "      <td>0.08</td>\n",
       "      <td>NaN</td>\n",
       "      <td>NaN</td>\n",
       "      <td>NaN</td>\n",
       "    </tr>\n",
       "    <tr>\n",
       "      <td>14244</td>\n",
       "      <td>NaN</td>\n",
       "      <td>GEN</td>\n",
       "      <td>1993.0</td>\n",
       "      <td>NaN</td>\n",
       "      <td>0.00</td>\n",
       "      <td>0.00</td>\n",
       "      <td>0.03</td>\n",
       "      <td>0.00</td>\n",
       "      <td>NaN</td>\n",
       "      <td>NaN</td>\n",
       "      <td>NaN</td>\n",
       "    </tr>\n",
       "  </tbody>\n",
       "</table>\n",
       "</div>"
      ],
      "text/plain": [
       "      name platform  year_of_release genre  na_sales  eu_sales  jp_sales  \\\n",
       "659    NaN      GEN           1993.0   NaN      1.78      0.53      0.00   \n",
       "14244  NaN      GEN           1993.0   NaN      0.00      0.00      0.03   \n",
       "\n",
       "       other_sales  critic_score  user_score rating  \n",
       "659           0.08           NaN         NaN    NaN  \n",
       "14244         0.00           NaN         NaN    NaN  "
      ]
     },
     "execution_count": 179,
     "metadata": {},
     "output_type": "execute_result"
    }
   ],
   "source": [
    "games[games['name'].isna()]"
   ]
  },
  {
   "cell_type": "markdown",
   "metadata": {},
   "source": [
    "Таких игр две. Так как мы не можем их идентифицировать, то удалим их, на остальные данные это не повлияет."
   ]
  },
  {
   "cell_type": "code",
   "execution_count": 180,
   "metadata": {},
   "outputs": [
    {
     "name": "stdout",
     "output_type": "stream",
     "text": [
      "<class 'pandas.core.frame.DataFrame'>\n",
      "Int64Index: 16713 entries, 0 to 16714\n",
      "Data columns (total 11 columns):\n",
      "name               16713 non-null object\n",
      "platform           16713 non-null object\n",
      "year_of_release    16444 non-null float64\n",
      "genre              16713 non-null object\n",
      "na_sales           16713 non-null float64\n",
      "eu_sales           16713 non-null float64\n",
      "jp_sales           16713 non-null float64\n",
      "other_sales        16713 non-null float64\n",
      "critic_score       8137 non-null float64\n",
      "user_score         7590 non-null float64\n",
      "rating             9949 non-null object\n",
      "dtypes: float64(7), object(4)\n",
      "memory usage: 1.5+ MB\n"
     ]
    }
   ],
   "source": [
    "games = games[~games['name'].isna()]\n",
    "games.info()"
   ]
  },
  {
   "cell_type": "markdown",
   "metadata": {},
   "source": [
    "#### 1.4 Пропуски в колонке с годом выпуска игры<a name=\"year_nan\"></a>\n",
    "Меньше, чем для 2 % игр не указан год выпуска. Эти строки также удаляем, так как это не повлияет на качество данных."
   ]
  },
  {
   "cell_type": "code",
   "execution_count": 181,
   "metadata": {},
   "outputs": [
    {
     "name": "stdout",
     "output_type": "stream",
     "text": [
      "<class 'pandas.core.frame.DataFrame'>\n",
      "Int64Index: 16444 entries, 0 to 16714\n",
      "Data columns (total 11 columns):\n",
      "name               16444 non-null object\n",
      "platform           16444 non-null object\n",
      "year_of_release    16444 non-null float64\n",
      "genre              16444 non-null object\n",
      "na_sales           16444 non-null float64\n",
      "eu_sales           16444 non-null float64\n",
      "jp_sales           16444 non-null float64\n",
      "other_sales        16444 non-null float64\n",
      "critic_score       7983 non-null float64\n",
      "user_score         7463 non-null float64\n",
      "rating             9768 non-null object\n",
      "dtypes: float64(7), object(4)\n",
      "memory usage: 1.5+ MB\n"
     ]
    }
   ],
   "source": [
    "games.dropna(axis=0, subset=['year_of_release'], inplace=True)\n",
    "games.info()"
   ]
  },
  {
   "cell_type": "markdown",
   "metadata": {},
   "source": [
    "#### 1.5 Пропуски в колонках с оценками пользователей и критиков<a name=\"scores_nan\"></a>\n",
    "Для примерно половины игр датасета нет информации об оценках пользователей и критиков. Возможно эти игры выпускались до появления систем оценок либо эти игры не пользовались популярностью и поэтому не попадали в эти списки. Удаление такого количества данных приведет к искажению результатов, поэтому оставим всё как есть."
   ]
  },
  {
   "cell_type": "markdown",
   "metadata": {},
   "source": [
    "#### 1.6 Пропуски в колонке с рейтингом игр<a name=\"rating_nan\"></a>\n",
    "Выведем уникальные значения в этой колонке."
   ]
  },
  {
   "cell_type": "code",
   "execution_count": 182,
   "metadata": {},
   "outputs": [
    {
     "data": {
      "text/plain": [
       "E       3921\n",
       "T       2905\n",
       "M       1536\n",
       "E10+    1393\n",
       "EC         8\n",
       "K-A        3\n",
       "AO         1\n",
       "RP         1\n",
       "Name: rating, dtype: int64"
      ]
     },
     "execution_count": 182,
     "metadata": {},
     "output_type": "execute_result"
    }
   ],
   "source": [
    "games['rating'].value_counts()"
   ]
  },
  {
   "cell_type": "markdown",
   "metadata": {},
   "source": [
    "Кроме одного одного, все эти маркировки присутствуют в системе рейтинга ESRB. Рейтинг \"K-A\" - первоначальное название действующего сейчас рейтинга \"E\", поэтому изменим его на актуальное."
   ]
  },
  {
   "cell_type": "code",
   "execution_count": 183,
   "metadata": {},
   "outputs": [
    {
     "data": {
      "text/plain": [
       "E       3924\n",
       "T       2905\n",
       "M       1536\n",
       "E10+    1393\n",
       "EC         8\n",
       "AO         1\n",
       "RP         1\n",
       "Name: rating, dtype: int64"
      ]
     },
     "execution_count": 183,
     "metadata": {},
     "output_type": "execute_result"
    }
   ],
   "source": [
    "games = games.replace('K-A', 'E')\n",
    "games['rating'].value_counts()"
   ]
  },
  {
   "cell_type": "markdown",
   "metadata": {},
   "source": [
    "Пропусков в этой колонке больше 40 %. Также оставим эти пропуски, так как нет данных для их заполнения, а удаление исказит результаты анализа. Проверим таблицу на дубликаты."
   ]
  },
  {
   "cell_type": "code",
   "execution_count": 184,
   "metadata": {},
   "outputs": [
    {
     "data": {
      "text/plain": [
       "0"
      ]
     },
     "execution_count": 184,
     "metadata": {},
     "output_type": "execute_result"
    }
   ],
   "source": [
    "games.duplicated().sum()"
   ]
  },
  {
   "cell_type": "markdown",
   "metadata": {},
   "source": [
    "Дубликатов в таблице нет."
   ]
  },
  {
   "cell_type": "markdown",
   "metadata": {},
   "source": [
    "#### 1.7 Расчет суммарных продаж по всем регионам<a name=\"count_all_sales\"></a>\n",
    "Добавим в новую колонку суммарные продажи для каждой игры по всем регионам."
   ]
  },
  {
   "cell_type": "code",
   "execution_count": 185,
   "metadata": {},
   "outputs": [
    {
     "data": {
      "text/html": [
       "<div>\n",
       "<style scoped>\n",
       "    .dataframe tbody tr th:only-of-type {\n",
       "        vertical-align: middle;\n",
       "    }\n",
       "\n",
       "    .dataframe tbody tr th {\n",
       "        vertical-align: top;\n",
       "    }\n",
       "\n",
       "    .dataframe thead th {\n",
       "        text-align: right;\n",
       "    }\n",
       "</style>\n",
       "<table border=\"1\" class=\"dataframe\">\n",
       "  <thead>\n",
       "    <tr style=\"text-align: right;\">\n",
       "      <th></th>\n",
       "      <th>name</th>\n",
       "      <th>platform</th>\n",
       "      <th>year_of_release</th>\n",
       "      <th>genre</th>\n",
       "      <th>na_sales</th>\n",
       "      <th>eu_sales</th>\n",
       "      <th>jp_sales</th>\n",
       "      <th>other_sales</th>\n",
       "      <th>critic_score</th>\n",
       "      <th>user_score</th>\n",
       "      <th>rating</th>\n",
       "      <th>all_sales</th>\n",
       "    </tr>\n",
       "  </thead>\n",
       "  <tbody>\n",
       "    <tr>\n",
       "      <td>0</td>\n",
       "      <td>Wii Sports</td>\n",
       "      <td>Wii</td>\n",
       "      <td>2006.0</td>\n",
       "      <td>Sports</td>\n",
       "      <td>41.36</td>\n",
       "      <td>28.96</td>\n",
       "      <td>3.77</td>\n",
       "      <td>8.45</td>\n",
       "      <td>76.0</td>\n",
       "      <td>8.0</td>\n",
       "      <td>E</td>\n",
       "      <td>82.54</td>\n",
       "    </tr>\n",
       "    <tr>\n",
       "      <td>1</td>\n",
       "      <td>Super Mario Bros.</td>\n",
       "      <td>NES</td>\n",
       "      <td>1985.0</td>\n",
       "      <td>Platform</td>\n",
       "      <td>29.08</td>\n",
       "      <td>3.58</td>\n",
       "      <td>6.81</td>\n",
       "      <td>0.77</td>\n",
       "      <td>NaN</td>\n",
       "      <td>NaN</td>\n",
       "      <td>NaN</td>\n",
       "      <td>40.24</td>\n",
       "    </tr>\n",
       "    <tr>\n",
       "      <td>2</td>\n",
       "      <td>Mario Kart Wii</td>\n",
       "      <td>Wii</td>\n",
       "      <td>2008.0</td>\n",
       "      <td>Racing</td>\n",
       "      <td>15.68</td>\n",
       "      <td>12.76</td>\n",
       "      <td>3.79</td>\n",
       "      <td>3.29</td>\n",
       "      <td>82.0</td>\n",
       "      <td>8.3</td>\n",
       "      <td>E</td>\n",
       "      <td>35.52</td>\n",
       "    </tr>\n",
       "    <tr>\n",
       "      <td>3</td>\n",
       "      <td>Wii Sports Resort</td>\n",
       "      <td>Wii</td>\n",
       "      <td>2009.0</td>\n",
       "      <td>Sports</td>\n",
       "      <td>15.61</td>\n",
       "      <td>10.93</td>\n",
       "      <td>3.28</td>\n",
       "      <td>2.95</td>\n",
       "      <td>80.0</td>\n",
       "      <td>8.0</td>\n",
       "      <td>E</td>\n",
       "      <td>32.77</td>\n",
       "    </tr>\n",
       "    <tr>\n",
       "      <td>4</td>\n",
       "      <td>Pokemon Red/Pokemon Blue</td>\n",
       "      <td>GB</td>\n",
       "      <td>1996.0</td>\n",
       "      <td>Role-Playing</td>\n",
       "      <td>11.27</td>\n",
       "      <td>8.89</td>\n",
       "      <td>10.22</td>\n",
       "      <td>1.00</td>\n",
       "      <td>NaN</td>\n",
       "      <td>NaN</td>\n",
       "      <td>NaN</td>\n",
       "      <td>31.38</td>\n",
       "    </tr>\n",
       "  </tbody>\n",
       "</table>\n",
       "</div>"
      ],
      "text/plain": [
       "                       name platform  year_of_release         genre  na_sales  \\\n",
       "0                Wii Sports      Wii           2006.0        Sports     41.36   \n",
       "1         Super Mario Bros.      NES           1985.0      Platform     29.08   \n",
       "2            Mario Kart Wii      Wii           2008.0        Racing     15.68   \n",
       "3         Wii Sports Resort      Wii           2009.0        Sports     15.61   \n",
       "4  Pokemon Red/Pokemon Blue       GB           1996.0  Role-Playing     11.27   \n",
       "\n",
       "   eu_sales  jp_sales  other_sales  critic_score  user_score rating  all_sales  \n",
       "0     28.96      3.77         8.45          76.0         8.0      E      82.54  \n",
       "1      3.58      6.81         0.77           NaN         NaN    NaN      40.24  \n",
       "2     12.76      3.79         3.29          82.0         8.3      E      35.52  \n",
       "3     10.93      3.28         2.95          80.0         8.0      E      32.77  \n",
       "4      8.89     10.22         1.00           NaN         NaN    NaN      31.38  "
      ]
     },
     "execution_count": 185,
     "metadata": {},
     "output_type": "execute_result"
    }
   ],
   "source": [
    "games['all_sales'] = games['na_sales'] + games['eu_sales'] + games['jp_sales'] + games['other_sales']\n",
    "games.head()"
   ]
  },
  {
   "cell_type": "markdown",
   "metadata": {},
   "source": [
    "Большую часть пропусков данных в датасете невозможно обработать так, чтобы это не повлияло на результат исследования, поэтому игры с пропущенными значениями оставлены в таблице. Скорее всего, отсутствие информации о рейтинге и оценках пользователей и критиков является характерным для этих игр."
   ]
  },
  {
   "cell_type": "markdown",
   "metadata": {},
   "source": [
    "### 2 Исследовательский анализ данных<a name=\"data_analysis\"></a>\n",
    "#### 2.1 Количество выпускаемых игр в разные годы<a name=\"games_by_years\"></a>\n",
    "Оценим по годам количество выпускаемых игр, для этого построим соответствующий график."
   ]
  },
  {
   "cell_type": "code",
   "execution_count": 186,
   "metadata": {},
   "outputs": [
    {
     "data": {
      "text/plain": [
       "Text(0, 0.5, 'Кол-во игр')"
      ]
     },
     "execution_count": 186,
     "metadata": {},
     "output_type": "execute_result"
    },
    {
     "data": {
      "image/png": "[encoded data removed]",
      "text/plain": [
       "<Figure size 864x360 with 1 Axes>"
      ]
     },
     "metadata": {
      "needs_background": "light"
     },
     "output_type": "display_data"
    }
   ],
   "source": [
    "games_by_year_plot = (games\n",
    "    .pivot_table(index='year_of_release', values='name', aggfunc='count')\n",
    "    .plot(style='o-', xlim=(1978, 2017), title='Количество релизов игр в разные годы', grid=True, figsize=(12, 5)))\n",
    "games_by_year_plot.set_xlabel('Год')\n",
    "games_by_year_plot.set_ylabel('Кол-во игр')"
   ]
  },
  {
   "cell_type": "markdown",
   "metadata": {},
   "source": [
    "С 1980 и примерно до 1993 года в год выпускалось несколько десятков игр. Затем началось бурное развите рынка и к 2008 году в год выпускалось уже больше тысячи игр. Затем началось уменьшение количества релизов в год, вероятно технологии и пользователи стали более требовательны к играм, что увеличило сроки их разработок. К 2015 году количество релизов в год сократилось примерно до 500.\n",
    "\n",
    "Будет некорректным делать прогноз об успешности игр, основываясь на анализе игр, которые уже не востребованы массово. Необходимо определить актуальный период."
   ]
  },
  {
   "cell_type": "markdown",
   "metadata": {},
   "source": [
    "#### 2.2 Продажи игр в зависимости от платформы<a name=\"sales_by_platforms\"></a>\n",
    "Выведем платформы с наибольшими суммарными продажами."
   ]
  },
  {
   "cell_type": "code",
   "execution_count": 187,
   "metadata": {},
   "outputs": [
    {
     "data": {
      "text/html": [
       "<div>\n",
       "<style scoped>\n",
       "    .dataframe tbody tr th:only-of-type {\n",
       "        vertical-align: middle;\n",
       "    }\n",
       "\n",
       "    .dataframe tbody tr th {\n",
       "        vertical-align: top;\n",
       "    }\n",
       "\n",
       "    .dataframe thead th {\n",
       "        text-align: right;\n",
       "    }\n",
       "</style>\n",
       "<table border=\"1\" class=\"dataframe\">\n",
       "  <thead>\n",
       "    <tr style=\"text-align: right;\">\n",
       "      <th></th>\n",
       "      <th>platform</th>\n",
       "      <th>all_sales</th>\n",
       "    </tr>\n",
       "  </thead>\n",
       "  <tbody>\n",
       "    <tr>\n",
       "      <td>0</td>\n",
       "      <td>PS2</td>\n",
       "      <td>1233.56</td>\n",
       "    </tr>\n",
       "    <tr>\n",
       "      <td>1</td>\n",
       "      <td>X360</td>\n",
       "      <td>961.24</td>\n",
       "    </tr>\n",
       "    <tr>\n",
       "      <td>2</td>\n",
       "      <td>PS3</td>\n",
       "      <td>931.34</td>\n",
       "    </tr>\n",
       "    <tr>\n",
       "      <td>3</td>\n",
       "      <td>Wii</td>\n",
       "      <td>891.18</td>\n",
       "    </tr>\n",
       "    <tr>\n",
       "      <td>4</td>\n",
       "      <td>DS</td>\n",
       "      <td>802.78</td>\n",
       "    </tr>\n",
       "    <tr>\n",
       "      <td>5</td>\n",
       "      <td>PS</td>\n",
       "      <td>727.58</td>\n",
       "    </tr>\n",
       "    <tr>\n",
       "      <td>6</td>\n",
       "      <td>PS4</td>\n",
       "      <td>314.14</td>\n",
       "    </tr>\n",
       "    <tr>\n",
       "      <td>7</td>\n",
       "      <td>GBA</td>\n",
       "      <td>312.88</td>\n",
       "    </tr>\n",
       "    <tr>\n",
       "      <td>8</td>\n",
       "      <td>PSP</td>\n",
       "      <td>289.53</td>\n",
       "    </tr>\n",
       "    <tr>\n",
       "      <td>9</td>\n",
       "      <td>3DS</td>\n",
       "      <td>257.81</td>\n",
       "    </tr>\n",
       "    <tr>\n",
       "      <td>10</td>\n",
       "      <td>PC</td>\n",
       "      <td>255.76</td>\n",
       "    </tr>\n",
       "    <tr>\n",
       "      <td>11</td>\n",
       "      <td>GB</td>\n",
       "      <td>254.43</td>\n",
       "    </tr>\n",
       "    <tr>\n",
       "      <td>12</td>\n",
       "      <td>XB</td>\n",
       "      <td>251.57</td>\n",
       "    </tr>\n",
       "    <tr>\n",
       "      <td>13</td>\n",
       "      <td>NES</td>\n",
       "      <td>251.05</td>\n",
       "    </tr>\n",
       "    <tr>\n",
       "      <td>14</td>\n",
       "      <td>N64</td>\n",
       "      <td>218.01</td>\n",
       "    </tr>\n",
       "  </tbody>\n",
       "</table>\n",
       "</div>"
      ],
      "text/plain": [
       "   platform  all_sales\n",
       "0       PS2    1233.56\n",
       "1      X360     961.24\n",
       "2       PS3     931.34\n",
       "3       Wii     891.18\n",
       "4        DS     802.78\n",
       "5        PS     727.58\n",
       "6       PS4     314.14\n",
       "7       GBA     312.88\n",
       "8       PSP     289.53\n",
       "9       3DS     257.81\n",
       "10       PC     255.76\n",
       "11       GB     254.43\n",
       "12       XB     251.57\n",
       "13      NES     251.05\n",
       "14      N64     218.01"
      ]
     },
     "execution_count": 187,
     "metadata": {},
     "output_type": "execute_result"
    }
   ],
   "source": [
    "(games\n",
    "    .pivot_table(index='platform', values='all_sales', aggfunc='sum')\n",
    "    .sort_values('all_sales', ascending=False)\n",
    "    .reset_index()\n",
    "    .head(15))"
   ]
  },
  {
   "cell_type": "markdown",
   "metadata": {},
   "source": [
    "На примере 3-х производителей (Sony, Microsoft и Nintendo), чьи платформы занимают первые 4 строчки по суммарным продажам игр, рассмотрим как распределялись продажи игр для этих платформ по годам. Также сравним с предыдущими или следующими поколениями каждой из платформ. Для этого построим гистограммы распределения продаж. Начнем с Sony и 4-х поколений Playstation."
   ]
  },
  {
   "cell_type": "code",
   "execution_count": 188,
   "metadata": {},
   "outputs": [
    {
     "data": {
      "text/plain": [
       "Text(0, 0.5, 'Суммарные продажи, млн')"
      ]
     },
     "execution_count": 188,
     "metadata": {},
     "output_type": "execute_result"
    },
    {
     "data": {
      "image/png": "[encoded data removed]",
      "text/plain": [
       "<Figure size 1440x360 with 1 Axes>"
      ]
     },
     "metadata": {
      "needs_background": "light"
     },
     "output_type": "display_data"
    }
   ],
   "source": [
    "ax = (games\n",
    "      .query('platform == \"PS\"')\n",
    "      .plot(x='all_sales', y='year_of_release', kind='hist', bins=12, label='PS', figsize = (20, 5), range=(1993, 2005),\n",
    "            grid=True, legend=True, alpha=0.7, title='Распределение суммарных продаж платформ Sony'))\n",
    "(games\n",
    "      .query('platform == \"PS2\"')\n",
    "      .plot(x='all_sales', y='year_of_release', kind='hist', bins=14, label='PS2', figsize = (20, 5), range=(1999, 2013),\n",
    "            grid=True, legend=True, alpha=0.5, ax=ax))\n",
    "(games\n",
    "      .query('platform == \"PS3\"')\n",
    "      .plot(x='all_sales', y='year_of_release', kind='hist', bins=12, label='PS3', figsize = (20, 5), range=(2005, 2017),\n",
    "            grid=True, legend=True, alpha=0.7, ax=ax))\n",
    "(games\n",
    "      .query('platform == \"PS4\"')\n",
    "      .plot(x='all_sales', y='year_of_release', kind='hist', bins=6, label='PS4', figsize = (20, 5), range=(2011, 2017),\n",
    "            grid=True, legend=True, alpha=0.5, ax=ax))\n",
    "ax.set_xlabel('Год')\n",
    "ax.set_ylabel('Суммарные продажи, млн')"
   ]
  },
  {
   "cell_type": "markdown",
   "metadata": {},
   "source": [
    "Если судить по продажам игр, то первые поколения PS и PS2 имели срок жизни около 10 лет. Похожее распределение и у PS3, а значит после 2016 года ее продажи скорее всего окончательно упадут. Продажи игр для PS4 стартовали примерно в 2013 году и продолжают расти в 2016.\n",
    "\n",
    "Теперь построим гистограммы для 3-х платформ Microsoft."
   ]
  },
  {
   "cell_type": "code",
   "execution_count": 189,
   "metadata": {},
   "outputs": [
    {
     "data": {
      "text/plain": [
       "Text(0, 0.5, 'Суммарные продажи, млн')"
      ]
     },
     "execution_count": 189,
     "metadata": {},
     "output_type": "execute_result"
    },
    {
     "data": {
      "image/png": "[encoded data removed]",
      "text/plain": [
       "<Figure size 1440x360 with 1 Axes>"
      ]
     },
     "metadata": {
      "needs_background": "light"
     },
     "output_type": "display_data"
    }
   ],
   "source": [
    "ax = (games\n",
    "      .query('platform == \"XB\"')\n",
    "      .plot(x='all_sales', y='year_of_release', kind='hist', bins=7, label='XB', figsize = (20, 5), range=(1999, 2006),\n",
    "            grid=True, legend=True, alpha=0.7, title='Распределение суммарных продаж платформ Microsoft'))\n",
    "(games\n",
    "      .query('platform == \"X360\"')\n",
    "      .plot(x='all_sales', y='year_of_release', kind='hist', bins=11, label='X360', figsize = (20, 5), range=(2004, 2015),\n",
    "            grid=True, legend=True, alpha=0.5, ax=ax))\n",
    "(games\n",
    "      .query('platform == \"XOne\"')\n",
    "      .plot(x='all_sales', y='year_of_release', kind='hist', bins=5, label='XOne', figsize = (20, 5), range=(2012, 2017),\n",
    "            grid=True, legend=True, alpha=0.7, ax=ax))\n",
    "ax.set_xlabel('Год')\n",
    "ax.set_ylabel('Суммарные продажи, млн')"
   ]
  },
  {
   "cell_type": "markdown",
   "metadata": {},
   "source": [
    "Для первого поколения Xbox игры покупали на протяжении почти 6 лет. Настораживает данный график тем, что продажи закончились резко и на пике. Судя по гистограмме пользователи разом перешли на новое поколение Xbox 360. Игры для этого поколения продавались уже на протяжении 10 лет и менее резко, чем у первого поколения, но тоже упали и закончились с выходом Xbox One в 2013 году. К 2016 году продажи игр для этого поколения по-прежнему растут.\n",
    "\n",
    "Далее Nintendo."
   ]
  },
  {
   "cell_type": "code",
   "execution_count": 190,
   "metadata": {},
   "outputs": [
    {
     "data": {
      "text/plain": [
       "Text(0, 0.5, 'Суммарные продажи, млн')"
      ]
     },
     "execution_count": 190,
     "metadata": {},
     "output_type": "execute_result"
    },
    {
     "data": {
      "image/png": "[encoded data removed]",
      "text/plain": [
       "<Figure size 1440x360 with 1 Axes>"
      ]
     },
     "metadata": {
      "needs_background": "light"
     },
     "output_type": "display_data"
    }
   ],
   "source": [
    "ax = (games\n",
    "      .query('platform == \"Wii\"')\n",
    "      .plot(x='all_sales', y='year_of_release', kind='hist', bins=9, label='Wii', figsize = (20, 5), range=(2005, 2014),\n",
    "            grid=True, legend=True, alpha=0.7, title='Распределение суммарных продаж платформ Nintendo'))\n",
    "(games\n",
    "      .query('platform == \"WiiU\"')\n",
    "      .plot(x='all_sales', y='year_of_release', kind='hist', bins=6, label='WiiU', figsize = (20, 5), range=(2011, 2017),\n",
    "            grid=True, legend=True, alpha=0.5, ax=ax))\n",
    "ax.set_xlabel('Год')\n",
    "ax.set_ylabel('Суммарные продажи, млн')"
   ]
  },
  {
   "cell_type": "markdown",
   "metadata": {},
   "source": [
    "Игры для платформы Wii начали продаваться в 2006 году, достигли пика продаж в 2009 и перестали продавать в 20014. В 2012 году вышло следующее поколение WiiU. Можно сделать вывод, что новая платформа провалилась, к 2016 году годовые продажи игр для нее ни разу не превысили 20 % от пика продаж предыдущего поколения и сейчас падают.\n",
    "Если ориентироваться на последние платформы самых популярных производителей, продажи игр для которых к 2016 году продолжают расти, то срок жизни платформ составляет около 10 лет, а актуальным для выявления предпочтений пользователей будет период с 2013 по 2016 год."
   ]
  },
  {
   "cell_type": "markdown",
   "metadata": {},
   "source": [
    "#### 2.3 Потенциально прибыльные платформы за актуальный период<a name=\"platforms_by_current_period\"></a>\n",
    "Сохраним данные за актуальный период в переменной \"current_period\" о определим платформы с наибольшими суммарными продажами игр."
   ]
  },
  {
   "cell_type": "code",
   "execution_count": 191,
   "metadata": {},
   "outputs": [
    {
     "data": {
      "text/html": [
       "<div>\n",
       "<style scoped>\n",
       "    .dataframe tbody tr th:only-of-type {\n",
       "        vertical-align: middle;\n",
       "    }\n",
       "\n",
       "    .dataframe tbody tr th {\n",
       "        vertical-align: top;\n",
       "    }\n",
       "\n",
       "    .dataframe thead th {\n",
       "        text-align: right;\n",
       "    }\n",
       "</style>\n",
       "<table border=\"1\" class=\"dataframe\">\n",
       "  <thead>\n",
       "    <tr style=\"text-align: right;\">\n",
       "      <th></th>\n",
       "      <th>all_sales</th>\n",
       "    </tr>\n",
       "    <tr>\n",
       "      <th>platform</th>\n",
       "      <th></th>\n",
       "    </tr>\n",
       "  </thead>\n",
       "  <tbody>\n",
       "    <tr>\n",
       "      <td>PS4</td>\n",
       "      <td>314.14</td>\n",
       "    </tr>\n",
       "    <tr>\n",
       "      <td>PS3</td>\n",
       "      <td>181.43</td>\n",
       "    </tr>\n",
       "    <tr>\n",
       "      <td>XOne</td>\n",
       "      <td>159.32</td>\n",
       "    </tr>\n",
       "    <tr>\n",
       "      <td>3DS</td>\n",
       "      <td>143.25</td>\n",
       "    </tr>\n",
       "    <tr>\n",
       "      <td>X360</td>\n",
       "      <td>136.80</td>\n",
       "    </tr>\n",
       "    <tr>\n",
       "      <td>WiiU</td>\n",
       "      <td>64.63</td>\n",
       "    </tr>\n",
       "    <tr>\n",
       "      <td>PC</td>\n",
       "      <td>39.43</td>\n",
       "    </tr>\n",
       "    <tr>\n",
       "      <td>PSV</td>\n",
       "      <td>32.99</td>\n",
       "    </tr>\n",
       "    <tr>\n",
       "      <td>Wii</td>\n",
       "      <td>13.66</td>\n",
       "    </tr>\n",
       "    <tr>\n",
       "      <td>PSP</td>\n",
       "      <td>3.50</td>\n",
       "    </tr>\n",
       "    <tr>\n",
       "      <td>DS</td>\n",
       "      <td>1.54</td>\n",
       "    </tr>\n",
       "  </tbody>\n",
       "</table>\n",
       "</div>"
      ],
      "text/plain": [
       "          all_sales\n",
       "platform           \n",
       "PS4          314.14\n",
       "PS3          181.43\n",
       "XOne         159.32\n",
       "3DS          143.25\n",
       "X360         136.80\n",
       "WiiU          64.63\n",
       "PC            39.43\n",
       "PSV           32.99\n",
       "Wii           13.66\n",
       "PSP            3.50\n",
       "DS             1.54"
      ]
     },
     "execution_count": 191,
     "metadata": {},
     "output_type": "execute_result"
    }
   ],
   "source": [
    "current_period = games[games['year_of_release'] >= 2013].reset_index(drop=True)\n",
    "(current_period\n",
    "               .pivot_table(index='platform', values='all_sales', aggfunc='sum')\n",
    "               .sort_values('all_sales', ascending=False)\n",
    ")"
   ]
  },
  {
   "cell_type": "markdown",
   "metadata": {},
   "source": [
    "Рассмотрим платформы, для которых за актуальный период было продано больше 100 миллионов копий игр. Таких платформ 5, построим для них гистограммы распределения продаж игр по годам."
   ]
  },
  {
   "cell_type": "code",
   "execution_count": 192,
   "metadata": {
    "scrolled": false
   },
   "outputs": [
    {
     "data": {
      "image/png": "[encoded data removed]",
      "text/plain": [
       "<Figure size 720x360 with 1 Axes>"
      ]
     },
     "metadata": {
      "needs_background": "light"
     },
     "output_type": "display_data"
    },
    {
     "data": {
      "image/png": "[encoded data removed]",
      "text/plain": [
       "<Figure size 720x360 with 1 Axes>"
      ]
     },
     "metadata": {
      "needs_background": "light"
     },
     "output_type": "display_data"
    },
    {
     "data": {
      "image/png": "[encoded data removed]",
      "text/plain": [
       "<Figure size 720x360 with 1 Axes>"
      ]
     },
     "metadata": {
      "needs_background": "light"
     },
     "output_type": "display_data"
    },
    {
     "data": {
      "image/png": "[encoded data removed]",
      "text/plain": [
       "<Figure size 720x360 with 1 Axes>"
      ]
     },
     "metadata": {
      "needs_background": "light"
     },
     "output_type": "display_data"
    },
    {
     "data": {
      "image/png": "[encoded data removed]",
      "text/plain": [
       "<Figure size 720x360 with 1 Axes>"
      ]
     },
     "metadata": {
      "needs_background": "light"
     },
     "output_type": "display_data"
    }
   ],
   "source": [
    "platforms = ['PS4', 'PS3', 'X360', '3DS', 'XOne']\n",
    "for platform in platforms:\n",
    "    (current_period\n",
    "      .query('platform == @platform')\n",
    "      .plot(x='all_sales', y='year_of_release', kind='hist', bins=4, label=platform, figsize = (10, 5), range=(2013, 2017),\n",
    "            grid=True, legend=True, alpha=0.7, title='Распределение суммарных продаж'))\n",
    "    plt.xlabel('Год')\n",
    "    plt.ylabel('Суммарные продажи, млн')\n",
    "    plt.show()"
   ]
  },
  {
   "cell_type": "markdown",
   "metadata": {},
   "source": [
    "Потенциально прибыльными платформами являются PS4 и Xbox One. Так как только у них из пяти лидеров по суммарным продажам игр продажи продолжают расти."
   ]
  },
  {
   "cell_type": "markdown",
   "metadata": {},
   "source": [
    "#### 2.4 Диграммы размаха по общемировым продажам для PS4 и Xbox One<a name=\"boxplot_ps4_xone\"></a>\n",
    "Выведем диаграмму PS4."
   ]
  },
  {
   "cell_type": "code",
   "execution_count": 193,
   "metadata": {},
   "outputs": [
    {
     "data": {
      "image/png": "[encoded data removed]",
      "text/plain": [
       "<Figure size 432x288 with 1 Axes>"
      ]
     },
     "metadata": {
      "needs_background": "light"
     },
     "output_type": "display_data"
    }
   ],
   "source": [
    "plt.ylim(0, 1.75)\n",
    "current_period.query('platform == \"PS4\"').boxplot('all_sales')\n",
    "plt.title('Диаграмма размаха общемировых продаж игр для PS4')\n",
    "plt.show()"
   ]
  },
  {
   "cell_type": "markdown",
   "metadata": {},
   "source": [
    "Большинство значений по глобальным продажам игр для PS4 лежат в примерном диапазоне от 100 до 700 тысяч проданных копий. Медиана - 200 тысяч, граница, после которой начинаются выбросы, лежит на значении примерно 1.7 миллионов копий.\n",
    "\n",
    "Далее диаграмма для Xbox One."
   ]
  },
  {
   "cell_type": "code",
   "execution_count": 194,
   "metadata": {},
   "outputs": [
    {
     "data": {
      "image/png": "[encoded data removed]",
      "text/plain": [
       "<Figure size 432x288 with 1 Axes>"
      ]
     },
     "metadata": {
      "needs_background": "light"
     },
     "output_type": "display_data"
    }
   ],
   "source": [
    "plt.ylim(0, 1.6)\n",
    "current_period.query('platform == \"XOne\"').boxplot('all_sales')\n",
    "plt.title('Диаграмма размаха общемировых продаж игр для XOne')\n",
    "plt.show()"
   ]
  },
  {
   "cell_type": "markdown",
   "metadata": {},
   "source": [
    "Большинство значений по глобальным продажам игр для Xbox One лежат в примерном диапазоне от 60 до 700 тысяч проданных копий. Медиана - чуть больше 200 тысяч, граница, после которой начинаются выбросы, лежит на значении примерно 1.55 миллионов копий."
   ]
  },
  {
   "cell_type": "markdown",
   "metadata": {},
   "source": [
    "#### 2.5 Влияние на продажи игр для PS4 отзывов пользователей и критиков<a name=\"cor_scores_sales_ps4\"></a>\n",
    "Для оценки этого влияния построим диаграмму рассеяния и матрицу корреляции между отзывами и продажами."
   ]
  },
  {
   "cell_type": "code",
   "execution_count": 195,
   "metadata": {},
   "outputs": [
    {
     "data": {
      "text/html": [
       "<div>\n",
       "<style scoped>\n",
       "    .dataframe tbody tr th:only-of-type {\n",
       "        vertical-align: middle;\n",
       "    }\n",
       "\n",
       "    .dataframe tbody tr th {\n",
       "        vertical-align: top;\n",
       "    }\n",
       "\n",
       "    .dataframe thead th {\n",
       "        text-align: right;\n",
       "    }\n",
       "</style>\n",
       "<table border=\"1\" class=\"dataframe\">\n",
       "  <thead>\n",
       "    <tr style=\"text-align: right;\">\n",
       "      <th></th>\n",
       "      <th>critic_score</th>\n",
       "      <th>user_score</th>\n",
       "      <th>all_sales</th>\n",
       "    </tr>\n",
       "  </thead>\n",
       "  <tbody>\n",
       "    <tr>\n",
       "      <td>critic_score</td>\n",
       "      <td>1.000000</td>\n",
       "      <td>0.557654</td>\n",
       "      <td>0.406568</td>\n",
       "    </tr>\n",
       "    <tr>\n",
       "      <td>user_score</td>\n",
       "      <td>0.557654</td>\n",
       "      <td>1.000000</td>\n",
       "      <td>-0.031957</td>\n",
       "    </tr>\n",
       "    <tr>\n",
       "      <td>all_sales</td>\n",
       "      <td>0.406568</td>\n",
       "      <td>-0.031957</td>\n",
       "      <td>1.000000</td>\n",
       "    </tr>\n",
       "  </tbody>\n",
       "</table>\n",
       "</div>"
      ],
      "text/plain": [
       "              critic_score  user_score  all_sales\n",
       "critic_score      1.000000    0.557654   0.406568\n",
       "user_score        0.557654    1.000000  -0.031957\n",
       "all_sales         0.406568   -0.031957   1.000000"
      ]
     },
     "execution_count": 195,
     "metadata": {},
     "output_type": "execute_result"
    },
    {
     "data": {
      "image/png": "[encoded data removed]",
      "text/plain": [
       "<Figure size 864x864 with 9 Axes>"
      ]
     },
     "metadata": {
      "needs_background": "light"
     },
     "output_type": "display_data"
    }
   ],
   "source": [
    "cor_scores_sales_ps4 = (current_period\n",
    "                        .query('platform == \"PS4\" and critic_score != 0 and user_score != 0')\n",
    "                        [['critic_score', 'user_score', 'all_sales']])\n",
    "pd.plotting.scatter_matrix(cor_scores_sales_ps4, figsize=(12, 12))\n",
    "cor_scores_sales_ps4.corr()"
   ]
  },
  {
   "cell_type": "markdown",
   "metadata": {},
   "source": [
    "По имеющимся данным оценить связь между отзывами критиков и продажами игр для PS4 можно как небольшую - коэффициент корреляции Пирсона составляет 0.4. То есть положительные отзывы незначительно увеличивают продажи. Отзывы пользователей по этим данным на продажи игр не влияют - коэфициент корреляции Пирсона составляет -0.03. А значит при оценке потенциальной успешности игры для этой и для других платформ стоит учитывать только отзывы критиков, но не как решающий фактор."
   ]
  },
  {
   "cell_type": "markdown",
   "metadata": {},
   "source": [
    "#### 2.6 Распределение продаж игр по жанрам<a name=\"sales_by_genres\"></a>\n",
    "Построим сводную таблицу для определения суммарных продаж игр каждого жанра."
   ]
  },
  {
   "cell_type": "code",
   "execution_count": 196,
   "metadata": {},
   "outputs": [
    {
     "data": {
      "text/html": [
       "<div>\n",
       "<style scoped>\n",
       "    .dataframe tbody tr th:only-of-type {\n",
       "        vertical-align: middle;\n",
       "    }\n",
       "\n",
       "    .dataframe tbody tr th {\n",
       "        vertical-align: top;\n",
       "    }\n",
       "\n",
       "    .dataframe thead th {\n",
       "        text-align: right;\n",
       "    }\n",
       "</style>\n",
       "<table border=\"1\" class=\"dataframe\">\n",
       "  <thead>\n",
       "    <tr style=\"text-align: right;\">\n",
       "      <th></th>\n",
       "      <th>genre</th>\n",
       "      <th>all_sales</th>\n",
       "    </tr>\n",
       "  </thead>\n",
       "  <tbody>\n",
       "    <tr>\n",
       "      <td>0</td>\n",
       "      <td>Action</td>\n",
       "      <td>321.87</td>\n",
       "    </tr>\n",
       "    <tr>\n",
       "      <td>1</td>\n",
       "      <td>Shooter</td>\n",
       "      <td>232.98</td>\n",
       "    </tr>\n",
       "    <tr>\n",
       "      <td>2</td>\n",
       "      <td>Sports</td>\n",
       "      <td>150.65</td>\n",
       "    </tr>\n",
       "    <tr>\n",
       "      <td>3</td>\n",
       "      <td>Role-Playing</td>\n",
       "      <td>145.89</td>\n",
       "    </tr>\n",
       "    <tr>\n",
       "      <td>4</td>\n",
       "      <td>Misc</td>\n",
       "      <td>62.82</td>\n",
       "    </tr>\n",
       "    <tr>\n",
       "      <td>5</td>\n",
       "      <td>Platform</td>\n",
       "      <td>42.63</td>\n",
       "    </tr>\n",
       "    <tr>\n",
       "      <td>6</td>\n",
       "      <td>Racing</td>\n",
       "      <td>39.89</td>\n",
       "    </tr>\n",
       "    <tr>\n",
       "      <td>7</td>\n",
       "      <td>Fighting</td>\n",
       "      <td>35.31</td>\n",
       "    </tr>\n",
       "    <tr>\n",
       "      <td>8</td>\n",
       "      <td>Adventure</td>\n",
       "      <td>23.64</td>\n",
       "    </tr>\n",
       "    <tr>\n",
       "      <td>9</td>\n",
       "      <td>Simulation</td>\n",
       "      <td>21.76</td>\n",
       "    </tr>\n",
       "    <tr>\n",
       "      <td>10</td>\n",
       "      <td>Strategy</td>\n",
       "      <td>10.08</td>\n",
       "    </tr>\n",
       "    <tr>\n",
       "      <td>11</td>\n",
       "      <td>Puzzle</td>\n",
       "      <td>3.17</td>\n",
       "    </tr>\n",
       "  </tbody>\n",
       "</table>\n",
       "</div>"
      ],
      "text/plain": [
       "           genre  all_sales\n",
       "0         Action     321.87\n",
       "1        Shooter     232.98\n",
       "2         Sports     150.65\n",
       "3   Role-Playing     145.89\n",
       "4           Misc      62.82\n",
       "5       Platform      42.63\n",
       "6         Racing      39.89\n",
       "7       Fighting      35.31\n",
       "8      Adventure      23.64\n",
       "9     Simulation      21.76\n",
       "10      Strategy      10.08\n",
       "11        Puzzle       3.17"
      ]
     },
     "execution_count": 196,
     "metadata": {},
     "output_type": "execute_result"
    }
   ],
   "source": [
    "(current_period\n",
    "                .pivot_table(index='genre', values='all_sales', aggfunc='sum')\n",
    "                .sort_values('all_sales', ascending=False)\n",
    "                .reset_index()\n",
    ")"
   ]
  },
  {
   "cell_type": "markdown",
   "metadata": {},
   "source": [
    "Самыми продаваемыми за актуальный период являются игры жанра \"Action\". Также выделяются жанры \"Shooter\", \"Sports\", и \"Role_Playing\". Более 100 миллионов копий игр каждого из этих жанров было продано за актуальный период. Наименее продаваемым является жанр \"Puzzle\".\n",
    "\n"
   ]
  },
  {
   "cell_type": "markdown",
   "metadata": {},
   "source": [
    "### 3 Портрет пользователя каждого региона<a name=\"user_type_by_regions\"></a>\n",
    "#### 3.1 Топ-5 популярных платформ для каждого региона<a name=\"top5_platforms_by_regions\"></a>\n",
    "С помощью сводной таблицы посчитаем продажи игр по пяти самым успешным платформам для каждого региона, а также их долю от рынка продаж в регионе."
   ]
  },
  {
   "cell_type": "code",
   "execution_count": 197,
   "metadata": {},
   "outputs": [
    {
     "data": {
      "text/html": [
       "<div>\n",
       "<style scoped>\n",
       "    .dataframe tbody tr th:only-of-type {\n",
       "        vertical-align: middle;\n",
       "    }\n",
       "\n",
       "    .dataframe tbody tr th {\n",
       "        vertical-align: top;\n",
       "    }\n",
       "\n",
       "    .dataframe thead th {\n",
       "        text-align: right;\n",
       "    }\n",
       "</style>\n",
       "<table border=\"1\" class=\"dataframe\">\n",
       "  <thead>\n",
       "    <tr style=\"text-align: right;\">\n",
       "      <th></th>\n",
       "      <th>platform</th>\n",
       "      <th>na_sales</th>\n",
       "      <th>part</th>\n",
       "    </tr>\n",
       "  </thead>\n",
       "  <tbody>\n",
       "    <tr>\n",
       "      <td>0</td>\n",
       "      <td>PS4</td>\n",
       "      <td>108.74</td>\n",
       "      <td>0.248429</td>\n",
       "    </tr>\n",
       "    <tr>\n",
       "      <td>1</td>\n",
       "      <td>XOne</td>\n",
       "      <td>93.12</td>\n",
       "      <td>0.212744</td>\n",
       "    </tr>\n",
       "    <tr>\n",
       "      <td>2</td>\n",
       "      <td>X360</td>\n",
       "      <td>81.66</td>\n",
       "      <td>0.186562</td>\n",
       "    </tr>\n",
       "    <tr>\n",
       "      <td>3</td>\n",
       "      <td>PS3</td>\n",
       "      <td>63.50</td>\n",
       "      <td>0.145073</td>\n",
       "    </tr>\n",
       "    <tr>\n",
       "      <td>4</td>\n",
       "      <td>3DS</td>\n",
       "      <td>38.20</td>\n",
       "      <td>0.087272</td>\n",
       "    </tr>\n",
       "  </tbody>\n",
       "</table>\n",
       "</div>"
      ],
      "text/plain": [
       "  platform  na_sales      part\n",
       "0      PS4    108.74  0.248429\n",
       "1     XOne     93.12  0.212744\n",
       "2     X360     81.66  0.186562\n",
       "3      PS3     63.50  0.145073\n",
       "4      3DS     38.20  0.087272"
      ]
     },
     "metadata": {},
     "output_type": "display_data"
    },
    {
     "data": {
      "text/html": [
       "<div>\n",
       "<style scoped>\n",
       "    .dataframe tbody tr th:only-of-type {\n",
       "        vertical-align: middle;\n",
       "    }\n",
       "\n",
       "    .dataframe tbody tr th {\n",
       "        vertical-align: top;\n",
       "    }\n",
       "\n",
       "    .dataframe thead th {\n",
       "        text-align: right;\n",
       "    }\n",
       "</style>\n",
       "<table border=\"1\" class=\"dataframe\">\n",
       "  <thead>\n",
       "    <tr style=\"text-align: right;\">\n",
       "      <th></th>\n",
       "      <th>platform</th>\n",
       "      <th>eu_sales</th>\n",
       "      <th>part</th>\n",
       "    </tr>\n",
       "  </thead>\n",
       "  <tbody>\n",
       "    <tr>\n",
       "      <td>0</td>\n",
       "      <td>PS4</td>\n",
       "      <td>141.09</td>\n",
       "      <td>0.359712</td>\n",
       "    </tr>\n",
       "    <tr>\n",
       "      <td>1</td>\n",
       "      <td>PS3</td>\n",
       "      <td>67.81</td>\n",
       "      <td>0.172883</td>\n",
       "    </tr>\n",
       "    <tr>\n",
       "      <td>2</td>\n",
       "      <td>XOne</td>\n",
       "      <td>51.59</td>\n",
       "      <td>0.131530</td>\n",
       "    </tr>\n",
       "    <tr>\n",
       "      <td>3</td>\n",
       "      <td>X360</td>\n",
       "      <td>42.52</td>\n",
       "      <td>0.108406</td>\n",
       "    </tr>\n",
       "    <tr>\n",
       "      <td>4</td>\n",
       "      <td>3DS</td>\n",
       "      <td>30.96</td>\n",
       "      <td>0.078933</td>\n",
       "    </tr>\n",
       "  </tbody>\n",
       "</table>\n",
       "</div>"
      ],
      "text/plain": [
       "  platform  eu_sales      part\n",
       "0      PS4    141.09  0.359712\n",
       "1      PS3     67.81  0.172883\n",
       "2     XOne     51.59  0.131530\n",
       "3     X360     42.52  0.108406\n",
       "4      3DS     30.96  0.078933"
      ]
     },
     "metadata": {},
     "output_type": "display_data"
    },
    {
     "data": {
      "text/html": [
       "<div>\n",
       "<style scoped>\n",
       "    .dataframe tbody tr th:only-of-type {\n",
       "        vertical-align: middle;\n",
       "    }\n",
       "\n",
       "    .dataframe tbody tr th {\n",
       "        vertical-align: top;\n",
       "    }\n",
       "\n",
       "    .dataframe thead th {\n",
       "        text-align: right;\n",
       "    }\n",
       "</style>\n",
       "<table border=\"1\" class=\"dataframe\">\n",
       "  <thead>\n",
       "    <tr style=\"text-align: right;\">\n",
       "      <th></th>\n",
       "      <th>platform</th>\n",
       "      <th>jp_sales</th>\n",
       "      <th>part</th>\n",
       "    </tr>\n",
       "  </thead>\n",
       "  <tbody>\n",
       "    <tr>\n",
       "      <td>0</td>\n",
       "      <td>3DS</td>\n",
       "      <td>67.81</td>\n",
       "      <td>0.481674</td>\n",
       "    </tr>\n",
       "    <tr>\n",
       "      <td>1</td>\n",
       "      <td>PS3</td>\n",
       "      <td>23.35</td>\n",
       "      <td>0.165862</td>\n",
       "    </tr>\n",
       "    <tr>\n",
       "      <td>2</td>\n",
       "      <td>PSV</td>\n",
       "      <td>18.59</td>\n",
       "      <td>0.132050</td>\n",
       "    </tr>\n",
       "    <tr>\n",
       "      <td>3</td>\n",
       "      <td>PS4</td>\n",
       "      <td>15.96</td>\n",
       "      <td>0.113368</td>\n",
       "    </tr>\n",
       "    <tr>\n",
       "      <td>4</td>\n",
       "      <td>WiiU</td>\n",
       "      <td>10.88</td>\n",
       "      <td>0.077284</td>\n",
       "    </tr>\n",
       "  </tbody>\n",
       "</table>\n",
       "</div>"
      ],
      "text/plain": [
       "  platform  jp_sales      part\n",
       "0      3DS     67.81  0.481674\n",
       "1      PS3     23.35  0.165862\n",
       "2      PSV     18.59  0.132050\n",
       "3      PS4     15.96  0.113368\n",
       "4     WiiU     10.88  0.077284"
      ]
     },
     "metadata": {},
     "output_type": "display_data"
    }
   ],
   "source": [
    "na_sales_by_platform = (current_period\n",
    "               .pivot_table(index='platform', values='na_sales', aggfunc='sum')\n",
    "               .sort_values('na_sales', ascending=False)\n",
    "               .reset_index()\n",
    ")\n",
    "na_sales_by_platform['part'] = na_sales_by_platform['na_sales'] / na_sales_by_platform['na_sales'].sum()\n",
    "display(na_sales_by_platform.head())\n",
    "\n",
    "eu_sales_by_platform = (current_period\n",
    "               .pivot_table(index='platform', values='eu_sales', aggfunc='sum')\n",
    "               .sort_values('eu_sales', ascending=False)\n",
    "               .reset_index()\n",
    ")\n",
    "eu_sales_by_platform['part'] = eu_sales_by_platform['eu_sales'] / eu_sales_by_platform['eu_sales'].sum()\n",
    "display(eu_sales_by_platform.head())\n",
    "\n",
    "jp_sales_by_platform = (current_period\n",
    "               .pivot_table(index='platform', values='jp_sales', aggfunc='sum')\n",
    "               .sort_values('jp_sales', ascending=False)\n",
    "               .reset_index()\n",
    ")\n",
    "jp_sales_by_platform['part'] = jp_sales_by_platform['jp_sales'] / jp_sales_by_platform['jp_sales'].sum()\n",
    "display(jp_sales_by_platform.head())"
   ]
  },
  {
   "cell_type": "markdown",
   "metadata": {},
   "source": [
    "В Северной Америке и Европе наибольшую долю в продажах за актуальный период имеют игры для PS4: 25 и 36 % рынка соответственно. В Японии игры для PS4 только четвертые с долей в 11 %.\n",
    "\n",
    "Игры для Xbox One вторые по продажам в Северной Америке и третьи в Европе с долями 21 и 13 % соответственно, а Японии игры для платформ Microsoft в топ-5 не входят.\n",
    "\n",
    "Почти половину рынка продаж игр в Японии занимают игры для 3DS. В Северной Америке и Европе игры для этой платформы по продажам на пятом месте с долями 9 и 8 % соответственно."
   ]
  },
  {
   "cell_type": "markdown",
   "metadata": {},
   "source": [
    "#### 3.2 Топ-5 популярных жанров игр для каждого региона<a name=\"top5_genres_by_regions\"></a>\n",
    "Также сведем таблицы по жанрам игр и их продажам для каждого региона и посчитаем их долю."
   ]
  },
  {
   "cell_type": "code",
   "execution_count": 198,
   "metadata": {},
   "outputs": [
    {
     "data": {
      "text/html": [
       "<div>\n",
       "<style scoped>\n",
       "    .dataframe tbody tr th:only-of-type {\n",
       "        vertical-align: middle;\n",
       "    }\n",
       "\n",
       "    .dataframe tbody tr th {\n",
       "        vertical-align: top;\n",
       "    }\n",
       "\n",
       "    .dataframe thead th {\n",
       "        text-align: right;\n",
       "    }\n",
       "</style>\n",
       "<table border=\"1\" class=\"dataframe\">\n",
       "  <thead>\n",
       "    <tr style=\"text-align: right;\">\n",
       "      <th></th>\n",
       "      <th>genre</th>\n",
       "      <th>na_sales</th>\n",
       "      <th>part</th>\n",
       "    </tr>\n",
       "  </thead>\n",
       "  <tbody>\n",
       "    <tr>\n",
       "      <td>0</td>\n",
       "      <td>Action</td>\n",
       "      <td>126.05</td>\n",
       "      <td>0.287976</td>\n",
       "    </tr>\n",
       "    <tr>\n",
       "      <td>1</td>\n",
       "      <td>Shooter</td>\n",
       "      <td>109.74</td>\n",
       "      <td>0.250714</td>\n",
       "    </tr>\n",
       "    <tr>\n",
       "      <td>2</td>\n",
       "      <td>Sports</td>\n",
       "      <td>65.27</td>\n",
       "      <td>0.149117</td>\n",
       "    </tr>\n",
       "    <tr>\n",
       "      <td>3</td>\n",
       "      <td>Role-Playing</td>\n",
       "      <td>46.40</td>\n",
       "      <td>0.106006</td>\n",
       "    </tr>\n",
       "    <tr>\n",
       "      <td>4</td>\n",
       "      <td>Misc</td>\n",
       "      <td>27.49</td>\n",
       "      <td>0.062804</td>\n",
       "    </tr>\n",
       "  </tbody>\n",
       "</table>\n",
       "</div>"
      ],
      "text/plain": [
       "          genre  na_sales      part\n",
       "0        Action    126.05  0.287976\n",
       "1       Shooter    109.74  0.250714\n",
       "2        Sports     65.27  0.149117\n",
       "3  Role-Playing     46.40  0.106006\n",
       "4          Misc     27.49  0.062804"
      ]
     },
     "metadata": {},
     "output_type": "display_data"
    },
    {
     "data": {
      "text/html": [
       "<div>\n",
       "<style scoped>\n",
       "    .dataframe tbody tr th:only-of-type {\n",
       "        vertical-align: middle;\n",
       "    }\n",
       "\n",
       "    .dataframe tbody tr th {\n",
       "        vertical-align: top;\n",
       "    }\n",
       "\n",
       "    .dataframe thead th {\n",
       "        text-align: right;\n",
       "    }\n",
       "</style>\n",
       "<table border=\"1\" class=\"dataframe\">\n",
       "  <thead>\n",
       "    <tr style=\"text-align: right;\">\n",
       "      <th></th>\n",
       "      <th>genre</th>\n",
       "      <th>eu_sales</th>\n",
       "      <th>part</th>\n",
       "    </tr>\n",
       "  </thead>\n",
       "  <tbody>\n",
       "    <tr>\n",
       "      <td>0</td>\n",
       "      <td>Action</td>\n",
       "      <td>118.13</td>\n",
       "      <td>0.301175</td>\n",
       "    </tr>\n",
       "    <tr>\n",
       "      <td>1</td>\n",
       "      <td>Shooter</td>\n",
       "      <td>87.86</td>\n",
       "      <td>0.224001</td>\n",
       "    </tr>\n",
       "    <tr>\n",
       "      <td>2</td>\n",
       "      <td>Sports</td>\n",
       "      <td>60.52</td>\n",
       "      <td>0.154297</td>\n",
       "    </tr>\n",
       "    <tr>\n",
       "      <td>3</td>\n",
       "      <td>Role-Playing</td>\n",
       "      <td>36.97</td>\n",
       "      <td>0.094256</td>\n",
       "    </tr>\n",
       "    <tr>\n",
       "      <td>4</td>\n",
       "      <td>Racing</td>\n",
       "      <td>20.19</td>\n",
       "      <td>0.051475</td>\n",
       "    </tr>\n",
       "  </tbody>\n",
       "</table>\n",
       "</div>"
      ],
      "text/plain": [
       "          genre  eu_sales      part\n",
       "0        Action    118.13  0.301175\n",
       "1       Shooter     87.86  0.224001\n",
       "2        Sports     60.52  0.154297\n",
       "3  Role-Playing     36.97  0.094256\n",
       "4        Racing     20.19  0.051475"
      ]
     },
     "metadata": {},
     "output_type": "display_data"
    },
    {
     "data": {
      "text/html": [
       "<div>\n",
       "<style scoped>\n",
       "    .dataframe tbody tr th:only-of-type {\n",
       "        vertical-align: middle;\n",
       "    }\n",
       "\n",
       "    .dataframe tbody tr th {\n",
       "        vertical-align: top;\n",
       "    }\n",
       "\n",
       "    .dataframe thead th {\n",
       "        text-align: right;\n",
       "    }\n",
       "</style>\n",
       "<table border=\"1\" class=\"dataframe\">\n",
       "  <thead>\n",
       "    <tr style=\"text-align: right;\">\n",
       "      <th></th>\n",
       "      <th>genre</th>\n",
       "      <th>jp_sales</th>\n",
       "      <th>part</th>\n",
       "    </tr>\n",
       "  </thead>\n",
       "  <tbody>\n",
       "    <tr>\n",
       "      <td>0</td>\n",
       "      <td>Role-Playing</td>\n",
       "      <td>51.04</td>\n",
       "      <td>0.362551</td>\n",
       "    </tr>\n",
       "    <tr>\n",
       "      <td>1</td>\n",
       "      <td>Action</td>\n",
       "      <td>40.49</td>\n",
       "      <td>0.287612</td>\n",
       "    </tr>\n",
       "    <tr>\n",
       "      <td>2</td>\n",
       "      <td>Misc</td>\n",
       "      <td>9.20</td>\n",
       "      <td>0.065350</td>\n",
       "    </tr>\n",
       "    <tr>\n",
       "      <td>3</td>\n",
       "      <td>Fighting</td>\n",
       "      <td>7.65</td>\n",
       "      <td>0.054340</td>\n",
       "    </tr>\n",
       "    <tr>\n",
       "      <td>4</td>\n",
       "      <td>Shooter</td>\n",
       "      <td>6.61</td>\n",
       "      <td>0.046953</td>\n",
       "    </tr>\n",
       "  </tbody>\n",
       "</table>\n",
       "</div>"
      ],
      "text/plain": [
       "          genre  jp_sales      part\n",
       "0  Role-Playing     51.04  0.362551\n",
       "1        Action     40.49  0.287612\n",
       "2          Misc      9.20  0.065350\n",
       "3      Fighting      7.65  0.054340\n",
       "4       Shooter      6.61  0.046953"
      ]
     },
     "metadata": {},
     "output_type": "display_data"
    }
   ],
   "source": [
    "na_sales_by_genre = (current_period\n",
    "               .pivot_table(index='genre', values='na_sales', aggfunc='sum')\n",
    "               .sort_values('na_sales', ascending=False)\n",
    "               .reset_index()\n",
    ")\n",
    "na_sales_by_genre['part'] = na_sales_by_genre['na_sales'] / na_sales_by_genre['na_sales'].sum()\n",
    "display(na_sales_by_genre.head())\n",
    "\n",
    "eu_sales_by_genre = (current_period\n",
    "               .pivot_table(index='genre', values='eu_sales', aggfunc='sum')\n",
    "               .sort_values('eu_sales', ascending=False)\n",
    "               .reset_index()\n",
    ")\n",
    "eu_sales_by_genre['part'] = eu_sales_by_genre['eu_sales'] / eu_sales_by_genre['eu_sales'].sum()\n",
    "display(eu_sales_by_genre.head())\n",
    "\n",
    "jp_sales_by_genre = (current_period\n",
    "               .pivot_table(index='genre', values='jp_sales', aggfunc='sum')\n",
    "               .sort_values('jp_sales', ascending=False)\n",
    "               .reset_index()\n",
    ")\n",
    "jp_sales_by_genre['part'] = jp_sales_by_genre['jp_sales'] / jp_sales_by_genre['jp_sales'].sum()\n",
    "display(jp_sales_by_genre.head())"
   ]
  },
  {
   "cell_type": "markdown",
   "metadata": {},
   "source": [
    "Первые 4 строчки самых продаваемых жанров игр одинаковы для Северной Америки и Европы, их доли в продажах также похожи. Самый популярный жанр Северной Америки и Европы \"Action\" в Японии на втором месте, но со сравнимой долей в 29 %. Самым популярным жанром в Японии являяется \"Role-Playing\" с долей в продажах 36 %. В Северной Америке и Европе этот жанр на четвертом месте с долями 10 и 9 % соответственно. Очень похоже, что в Японии особое отношение к этому жанру. Также вероятно в игры этого жанра удобнее всего играть на портативной платформе 3DS, самой популярной в Японии."
   ]
  },
  {
   "cell_type": "markdown",
   "metadata": {},
   "source": [
    "#### 3.3 Влияние рейтинга ESRB на продажи игр в отдельном регионе<a name=\"sales_by_rating\"></a>\n",
    "Через сводные таблицы с рейтингом и продажами оценим это влияние."
   ]
  },
  {
   "cell_type": "code",
   "execution_count": 199,
   "metadata": {},
   "outputs": [
    {
     "data": {
      "text/html": [
       "<div>\n",
       "<style scoped>\n",
       "    .dataframe tbody tr th:only-of-type {\n",
       "        vertical-align: middle;\n",
       "    }\n",
       "\n",
       "    .dataframe tbody tr th {\n",
       "        vertical-align: top;\n",
       "    }\n",
       "\n",
       "    .dataframe thead th {\n",
       "        text-align: right;\n",
       "    }\n",
       "</style>\n",
       "<table border=\"1\" class=\"dataframe\">\n",
       "  <thead>\n",
       "    <tr style=\"text-align: right;\">\n",
       "      <th></th>\n",
       "      <th>rating</th>\n",
       "      <th>na_sales</th>\n",
       "      <th>part</th>\n",
       "    </tr>\n",
       "  </thead>\n",
       "  <tbody>\n",
       "    <tr>\n",
       "      <td>0</td>\n",
       "      <td>M</td>\n",
       "      <td>165.21</td>\n",
       "      <td>0.474346</td>\n",
       "    </tr>\n",
       "    <tr>\n",
       "      <td>1</td>\n",
       "      <td>E</td>\n",
       "      <td>79.05</td>\n",
       "      <td>0.226966</td>\n",
       "    </tr>\n",
       "    <tr>\n",
       "      <td>2</td>\n",
       "      <td>E10+</td>\n",
       "      <td>54.24</td>\n",
       "      <td>0.155732</td>\n",
       "    </tr>\n",
       "    <tr>\n",
       "      <td>3</td>\n",
       "      <td>T</td>\n",
       "      <td>49.79</td>\n",
       "      <td>0.142956</td>\n",
       "    </tr>\n",
       "  </tbody>\n",
       "</table>\n",
       "</div>"
      ],
      "text/plain": [
       "  rating  na_sales      part\n",
       "0      M    165.21  0.474346\n",
       "1      E     79.05  0.226966\n",
       "2   E10+     54.24  0.155732\n",
       "3      T     49.79  0.142956"
      ]
     },
     "metadata": {},
     "output_type": "display_data"
    },
    {
     "data": {
      "text/html": [
       "<div>\n",
       "<style scoped>\n",
       "    .dataframe tbody tr th:only-of-type {\n",
       "        vertical-align: middle;\n",
       "    }\n",
       "\n",
       "    .dataframe tbody tr th {\n",
       "        vertical-align: top;\n",
       "    }\n",
       "\n",
       "    .dataframe thead th {\n",
       "        text-align: right;\n",
       "    }\n",
       "</style>\n",
       "<table border=\"1\" class=\"dataframe\">\n",
       "  <thead>\n",
       "    <tr style=\"text-align: right;\">\n",
       "      <th></th>\n",
       "      <th>rating</th>\n",
       "      <th>eu_sales</th>\n",
       "      <th>part</th>\n",
       "    </tr>\n",
       "  </thead>\n",
       "  <tbody>\n",
       "    <tr>\n",
       "      <td>0</td>\n",
       "      <td>M</td>\n",
       "      <td>145.32</td>\n",
       "      <td>0.463807</td>\n",
       "    </tr>\n",
       "    <tr>\n",
       "      <td>1</td>\n",
       "      <td>E</td>\n",
       "      <td>83.36</td>\n",
       "      <td>0.266054</td>\n",
       "    </tr>\n",
       "    <tr>\n",
       "      <td>2</td>\n",
       "      <td>E10+</td>\n",
       "      <td>42.69</td>\n",
       "      <td>0.136250</td>\n",
       "    </tr>\n",
       "    <tr>\n",
       "      <td>3</td>\n",
       "      <td>T</td>\n",
       "      <td>41.95</td>\n",
       "      <td>0.133889</td>\n",
       "    </tr>\n",
       "  </tbody>\n",
       "</table>\n",
       "</div>"
      ],
      "text/plain": [
       "  rating  eu_sales      part\n",
       "0      M    145.32  0.463807\n",
       "1      E     83.36  0.266054\n",
       "2   E10+     42.69  0.136250\n",
       "3      T     41.95  0.133889"
      ]
     },
     "metadata": {},
     "output_type": "display_data"
    },
    {
     "data": {
      "text/html": [
       "<div>\n",
       "<style scoped>\n",
       "    .dataframe tbody tr th:only-of-type {\n",
       "        vertical-align: middle;\n",
       "    }\n",
       "\n",
       "    .dataframe tbody tr th {\n",
       "        vertical-align: top;\n",
       "    }\n",
       "\n",
       "    .dataframe thead th {\n",
       "        text-align: right;\n",
       "    }\n",
       "</style>\n",
       "<table border=\"1\" class=\"dataframe\">\n",
       "  <thead>\n",
       "    <tr style=\"text-align: right;\">\n",
       "      <th></th>\n",
       "      <th>rating</th>\n",
       "      <th>jp_sales</th>\n",
       "      <th>part</th>\n",
       "    </tr>\n",
       "  </thead>\n",
       "  <tbody>\n",
       "    <tr>\n",
       "      <td>0</td>\n",
       "      <td>T</td>\n",
       "      <td>20.59</td>\n",
       "      <td>0.369460</td>\n",
       "    </tr>\n",
       "    <tr>\n",
       "      <td>1</td>\n",
       "      <td>E</td>\n",
       "      <td>15.14</td>\n",
       "      <td>0.271667</td>\n",
       "    </tr>\n",
       "    <tr>\n",
       "      <td>2</td>\n",
       "      <td>M</td>\n",
       "      <td>14.11</td>\n",
       "      <td>0.253185</td>\n",
       "    </tr>\n",
       "    <tr>\n",
       "      <td>3</td>\n",
       "      <td>E10+</td>\n",
       "      <td>5.89</td>\n",
       "      <td>0.105688</td>\n",
       "    </tr>\n",
       "  </tbody>\n",
       "</table>\n",
       "</div>"
      ],
      "text/plain": [
       "  rating  jp_sales      part\n",
       "0      T     20.59  0.369460\n",
       "1      E     15.14  0.271667\n",
       "2      M     14.11  0.253185\n",
       "3   E10+      5.89  0.105688"
      ]
     },
     "metadata": {},
     "output_type": "display_data"
    }
   ],
   "source": [
    "na_sales_by_rating = (current_period\n",
    "               .query('rating != 0')\n",
    "               .pivot_table(index='rating', values='na_sales', aggfunc='sum')\n",
    "               .sort_values('na_sales', ascending=False)\n",
    "               .reset_index()\n",
    ")\n",
    "na_sales_by_rating['part'] = na_sales_by_rating['na_sales'] / na_sales_by_rating['na_sales'].sum()\n",
    "display(na_sales_by_rating)\n",
    "\n",
    "eu_sales_by_rating = (current_period\n",
    "               .query('rating != 0')\n",
    "               .pivot_table(index='rating', values='eu_sales', aggfunc='sum')\n",
    "               .sort_values('eu_sales', ascending=False)\n",
    "               .reset_index()\n",
    ")\n",
    "eu_sales_by_rating['part'] = eu_sales_by_rating['eu_sales'] / eu_sales_by_rating['eu_sales'].sum()\n",
    "display(eu_sales_by_rating)\n",
    "\n",
    "jp_sales_by_rating = (current_period\n",
    "               .query('rating != 0')\n",
    "               .pivot_table(index='rating', values='jp_sales', aggfunc='sum')\n",
    "               .sort_values('jp_sales', ascending=False)\n",
    "               .reset_index()\n",
    ")\n",
    "jp_sales_by_rating['part'] = jp_sales_by_rating['jp_sales'] / jp_sales_by_rating['jp_sales'].sum()\n",
    "display(jp_sales_by_rating)"
   ]
  },
  {
   "cell_type": "markdown",
   "metadata": {},
   "source": [
    "Расположение игр по продажам в зависимости от рейтинга одинаково для Северной Америки и Европы, их доли очень близки друг к другу. Самым популярным рейтингом, занимающим почти половину рынка продаж игр, является \"M\" (\"Для взрослых\"). Япония снова отличается, там игры с таким рейтингом имеют долю в продажах 24 % и третье место. А самый продаваемый рейтинг в Японии - \"T\" (\"Подросткам\"), доля таких игр 38 %."
   ]
  },
  {
   "cell_type": "markdown",
   "metadata": {},
   "source": [
    "### 4 Проверка гипотез<a name=\"hypotheses\"></a>\n",
    "#### 4.1 Средние пользовательские рейтинги платформ Xbox One и PC одинаковые<a name=\"mean_scores_xone_pc\"></a>\n",
    "Чтобы проверить гипотезу о том, что средние пользовательские рейтинги платформ Xbox One и PC одинаковы, примем ее за нулевую гипотезу. Гипотеза о том, что средние пользовательские рейтинги различаются будет альтернативной. Критический уровень значимости \"alpha\" примем равным 0.05. После этого проведем статистический тест для двух выборок и по его резельтатам рассчитаем суммарную вероятность получить случайное значение в опыте настолько далеким от среднего значения (\"p-value\"). Если \"p-value\" будет меньше \"alpha\", при условии, что нулевая гипотеза верна, то нулевая гипотеза будет отвергнута.\n",
    "\n",
    "Сначала сохраним пользовательские рейтинги платформ Xbox и PC в разные таблицы соответственно. Затем проведем статистический тест методом st.ttest_ind(), которому в качестве аргументов передадим массивы данных и параметр \"equal_var\". Для того, чтобы определить какое значение придавать параметру \"equal_var\" рассчитаем дисперсии выборок, если они будут близки друг к другу, то \"equal_var=True\", если будут отличаться больше, чем на 5 %, то \"equal_var=False\". По результатам теста рассчитаем \"p-value\" соответствующим методом."
   ]
  },
  {
   "cell_type": "code",
   "execution_count": 200,
   "metadata": {},
   "outputs": [
    {
     "data": {
      "text/plain": [
       "1.9069968429360695"
      ]
     },
     "metadata": {},
     "output_type": "display_data"
    },
    {
     "data": {
      "text/plain": [
       "3.035892752408882"
      ]
     },
     "metadata": {},
     "output_type": "display_data"
    }
   ],
   "source": [
    "xone_games = current_period[~current_period['user_score'].isna()].query('platform == \"XOne\"')\n",
    "pc_games = current_period[~current_period['user_score'].isna()].query('platform == \"PC\"')\n",
    "display(np.var(xone_games['user_score'], ddof=1))\n",
    "display(np.var(pc_games['user_score'], ddof=1))"
   ]
  },
  {
   "cell_type": "markdown",
   "metadata": {},
   "source": [
    "Дисперсия пользовательских оценок игр Xbox One почти на 30 % меньше дисперсии пользовательских оценок игр для персональных компьютеров. Передаем методу аргумент \"equal_var=False\"."
   ]
  },
  {
   "cell_type": "code",
   "execution_count": 201,
   "metadata": {},
   "outputs": [
    {
     "data": {
      "text/html": [
       "<div>\n",
       "<style scoped>\n",
       "    .dataframe tbody tr th:only-of-type {\n",
       "        vertical-align: middle;\n",
       "    }\n",
       "\n",
       "    .dataframe tbody tr th {\n",
       "        vertical-align: top;\n",
       "    }\n",
       "\n",
       "    .dataframe thead th {\n",
       "        text-align: right;\n",
       "    }\n",
       "</style>\n",
       "<table border=\"1\" class=\"dataframe\">\n",
       "  <thead>\n",
       "    <tr style=\"text-align: right;\">\n",
       "      <th></th>\n",
       "      <th>user_score</th>\n",
       "    </tr>\n",
       "    <tr>\n",
       "      <th>platform</th>\n",
       "      <th></th>\n",
       "    </tr>\n",
       "  </thead>\n",
       "  <tbody>\n",
       "    <tr>\n",
       "      <td>PC</td>\n",
       "      <td>6.269677</td>\n",
       "    </tr>\n",
       "    <tr>\n",
       "      <td>XOne</td>\n",
       "      <td>6.521429</td>\n",
       "    </tr>\n",
       "  </tbody>\n",
       "</table>\n",
       "</div>"
      ],
      "text/plain": [
       "          user_score\n",
       "platform            \n",
       "PC          6.269677\n",
       "XOne        6.521429"
      ]
     },
     "metadata": {},
     "output_type": "display_data"
    },
    {
     "data": {
      "text/plain": [
       "0.14759594013430463"
      ]
     },
     "metadata": {},
     "output_type": "display_data"
    }
   ],
   "source": [
    "results_xone_pc = st.ttest_ind(xone_games['user_score'], pc_games['user_score'], equal_var = False)\n",
    "(display(current_period[~current_period['user_score'].isna()]\n",
    "         .query('platform == \"XOne\" or platform == \"PC\"')\n",
    "         .pivot_table(index='platform', values='user_score')))\n",
    "display(results_xone_pc.pvalue)"
   ]
  },
  {
   "cell_type": "markdown",
   "metadata": {},
   "source": [
    "Полученное \"p-value\" больше \"alpha\". Это означает, что у нас нет оснований отвергнуть нулевую гипотезу, то есть средний пользовательский рейтинг генеральной совокупности пользовательских оценок игр Xbox One не отличается от среднего пользовательского рейтинга генеральной совокупности пользовательских оценок игр PC. Это означает, что на примере данных выборок такую разницу в средней выручке можно получить с вероятностью 15 %. Эта вероятность больше критического уровня значимости, что не позволяет делать вывод о значимом различии средних пользовательских оценок игр для этих платформ."
   ]
  },
  {
   "cell_type": "markdown",
   "metadata": {},
   "source": [
    "#### 4.2 Средние пользовательские рейтинги жанров \"Action\" и \"Sports\" разные<a name=\"mean_scores_action_sports\"></a>\n",
    "В данном случае за нулевую гипотезу примем то, что средний пользовательский рейтинг игр жанра \"Action\" не отличается от среднего пользовательского рейтинга игр жанра \"Sports\". Критический уровень значимости \"alpha\" примем равным 0.05. Если суммарная вероятность \"p-value\" получить случайное значение в опыте настолько далеким от среднего значения будет меньше \"alpha\", при условии, что нулевая гипотеза верна, то нулевая гипотеза будет отвергнута.\n",
    "\n",
    "Сначала сохраним данные игр жанров \"Action\" и \"Sports\" в разные таблицы соответственно. Затем проведем статистический тест методом st.ttest_ind(), которому в качестве аргументов передами массивы данных и параметр \"equal_var\". Для того, чтобы определить какое значение придавать параметру \"equal_var\" рассчитаем дисперсии выборок, если они будут близки друг к другу, то \"equal_var=True\", если будут отличаться больше, чем на 5 %, то \"equal_var=False\". По результатам теста рассчитаем \"p-value\" методом \"pvalue\"."
   ]
  },
  {
   "cell_type": "code",
   "execution_count": 202,
   "metadata": {},
   "outputs": [
    {
     "data": {
      "text/plain": [
       "1.7693609042482705"
      ]
     },
     "metadata": {},
     "output_type": "display_data"
    },
    {
     "data": {
      "text/plain": [
       "3.180612814465409"
      ]
     },
     "metadata": {},
     "output_type": "display_data"
    }
   ],
   "source": [
    "action_games = current_period[~current_period['user_score'].isna()].query('genre == \"Action\"')\n",
    "sports_games = current_period[~current_period['user_score'].isna()].query('genre == \"Sports\"')\n",
    "display(np.var(action_games['user_score'], ddof=1))\n",
    "display(np.var(sports_games['user_score'], ddof=1))"
   ]
  },
  {
   "cell_type": "markdown",
   "metadata": {},
   "source": [
    "Дисперсия пользовательских оценок игр жанра \"Action\" почти на 50 % меньше дисперсии пользовательских оценок игр жанра \"Sports\". Передаем методу аргумент \"equal_var=False\"."
   ]
  },
  {
   "cell_type": "code",
   "execution_count": 203,
   "metadata": {},
   "outputs": [
    {
     "data": {
      "text/html": [
       "<div>\n",
       "<style scoped>\n",
       "    .dataframe tbody tr th:only-of-type {\n",
       "        vertical-align: middle;\n",
       "    }\n",
       "\n",
       "    .dataframe tbody tr th {\n",
       "        vertical-align: top;\n",
       "    }\n",
       "\n",
       "    .dataframe thead th {\n",
       "        text-align: right;\n",
       "    }\n",
       "</style>\n",
       "<table border=\"1\" class=\"dataframe\">\n",
       "  <thead>\n",
       "    <tr style=\"text-align: right;\">\n",
       "      <th></th>\n",
       "      <th>user_score</th>\n",
       "    </tr>\n",
       "    <tr>\n",
       "      <th>genre</th>\n",
       "      <th></th>\n",
       "    </tr>\n",
       "  </thead>\n",
       "  <tbody>\n",
       "    <tr>\n",
       "      <td>Action</td>\n",
       "      <td>6.837532</td>\n",
       "    </tr>\n",
       "    <tr>\n",
       "      <td>Sports</td>\n",
       "      <td>5.238125</td>\n",
       "    </tr>\n",
       "  </tbody>\n",
       "</table>\n",
       "</div>"
      ],
      "text/plain": [
       "        user_score\n",
       "genre             \n",
       "Action    6.837532\n",
       "Sports    5.238125"
      ]
     },
     "metadata": {},
     "output_type": "display_data"
    },
    {
     "data": {
      "text/plain": [
       "1.4460039700704318e-20"
      ]
     },
     "metadata": {},
     "output_type": "display_data"
    }
   ],
   "source": [
    "results_action_sports = st.ttest_ind(action_games['user_score'], sports_games['user_score'], equal_var = False)\n",
    "(display(current_period[~current_period['user_score'].isna()]\n",
    "         .query('genre == \"Action\" or genre == \"Sports\"')\n",
    "         .pivot_table(index='genre', values='user_score')))\n",
    "display(results_action_sports.pvalue)"
   ]
  },
  {
   "cell_type": "markdown",
   "metadata": {},
   "source": [
    "Полученное \"p-value\" меньше \"alpha\". Это означает, что мы отвергаем нулевую гипотезу, а значит средние пользовательские рейтинги генеральных совокупностей игр жанра \"Action\" и \"Sports\" различаются."
   ]
  },
  {
   "cell_type": "markdown",
   "metadata": {},
   "source": [
    "### Общий вывод<a name=\"conclusion\"></a>"
   ]
  },
  {
   "cell_type": "markdown",
   "metadata": {},
   "source": [
    "В ходе данного проекта:\n",
    "Были изучены и обработаны данные о продажах игр, их оценках пользователей и экспертов, жанрах и платформах этих игр. Рассчитаны суммарные продажи игр во всех регионах. Актуальным периодом времени, продажи игр в течение которого нужно проанализировать, был выбран промежуток с 2013 по 2016 год. Именно в начале него владельцами платформ, игры для которых лучше всего продаются, были запущены новые поколения консолей. В актуальном периоде только две платформы имеют продолжающийся рост продаж игр и именно эти платформы были выбраны потенциально прибыльными - Plastation 4 и Xbox One. Диаграмма размаха для продаж игр данных платформ за актуальный период показала, что большинство значений лежат в диапазоне до 700 тысяч копий.\n",
    "\n",
    "на примере PS4 выявлено, что оценки критиков оказывают на продажи игр небольшое влияние - коэффициент корреляции Пирсона 0.38. Между оценками пользователей и продажами связи почти нет, коэффициент корреляции Пирсона близок к нулю.\n",
    "\n",
    "Самым популярным жанром по продажам игр за актуальный период является \"Action\", наименее продаваемым \"Puzzle\". Лидером по продажам игр в Северной Америке и Европе является PS4, в Японии лидер 3DS. Самый популярный жанр игр в Северной Америке и Европе - \"Action\", в Японии - \"Role-Playing\". Также один и тот же в Северной Америке и Европе лидер продаж по рейтингу - \"M\" (\"Для взрослых\"). Лидер в Японии рейтинг \"T\" (\"Подросткам\").\n",
    "\n",
    "В результате статистических тестов было определено, что средний пользовательский рейтинг генеральной совокупности пользовательских оценок игр Xbox One не отличается от среднего пользовательского рейтинга генеральной совокупности пользовательских оценок игр PC. А средние пользовательские рейтинги генеральных совокупностей игр жанра \"Action\" и \"Sports\" различаются.\n",
    "\n",
    "На основе выявленных закономерностей можно сделать вывод, что при выборе игр для рекламной кампании необхдимо учитывать региональные особенности: кампании для Северной Америки и Европы могут быть сходными, так как там одна и та же самая популярная платформа, жанр игр и рейтинг. А рекламная кампания в Японии должна быть ориентирована на совершенно други платформы, жанры и рейтинги. Общим для кампаний будет то, что на оценки критиков следует ориентироваться больше, чем на оценки пользователей."
   ]
  }
 ],
 "metadata": {
  "kernelspec": {
   "display_name": "Python 3",
   "language": "python",
   "name": "python3"
  },
  "language_info": {
   "codemirror_mode": {
    "name": "ipython",
    "version": 3
   },
   "file_extension": ".py",
   "mimetype": "text/x-python",
   "name": "python",
   "nbconvert_exporter": "python",
   "pygments_lexer": "ipython3",
   "version": "3.7.10"
  },
  "toc": {
   "base_numbering": 1,
   "nav_menu": {},
   "number_sections": true,
   "sideBar": true,
   "skip_h1_title": true,
   "title_cell": "Table of Contents",
   "title_sidebar": "Contents",
   "toc_cell": false,
   "toc_position": {},
   "toc_section_display": true,
   "toc_window_display": false
  }
 },
 "nbformat": 4,
 "nbformat_minor": 2
}
